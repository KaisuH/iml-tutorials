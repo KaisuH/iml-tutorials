{
 "cells": [
  {
   "cell_type": "code",
   "execution_count": 1,
   "id": "d1610ab4",
   "metadata": {
    "ExecuteTime": {
     "end_time": "2023-02-27T14:31:37.568495Z",
     "start_time": "2023-02-27T14:31:37.399151Z"
    }
   },
   "outputs": [],
   "source": [
    "import numpy as np"
   ]
  },
  {
   "cell_type": "markdown",
   "id": "1d10dd4f",
   "metadata": {},
   "source": [
    "## Python is dynamically typed:"
   ]
  },
  {
   "cell_type": "code",
   "execution_count": 2,
   "id": "e4e2db1b",
   "metadata": {
    "ExecuteTime": {
     "end_time": "2023-02-27T14:31:37.572569Z",
     "start_time": "2023-02-27T14:31:37.570258Z"
    }
   },
   "outputs": [],
   "source": [
    "l = ['a', 1, None, str, np]"
   ]
  },
  {
   "cell_type": "markdown",
   "id": "bd9d0d83",
   "metadata": {},
   "source": [
    "### this makes thing like `for` loops very slow\n",
    "\n",
    "`numpy` gives access to optimized procedures, implemented in low-level language (eg `C`)"
   ]
  },
  {
   "cell_type": "code",
   "execution_count": 3,
   "id": "5dc1e932",
   "metadata": {
    "ExecuteTime": {
     "end_time": "2023-02-27T14:31:37.580643Z",
     "start_time": "2023-02-27T14:31:37.577740Z"
    }
   },
   "outputs": [],
   "source": [
    "x = np.random.randn(10000)"
   ]
  },
  {
   "cell_type": "code",
   "execution_count": 4,
   "id": "a2e9f4d5",
   "metadata": {
    "ExecuteTime": {
     "end_time": "2023-02-27T14:31:37.591015Z",
     "start_time": "2023-02-27T14:31:37.582266Z"
    }
   },
   "outputs": [
    {
     "data": {
      "text/plain": [
       "array([ 0.32795668, -0.14876166,  0.59299705, -0.10451492, -0.87029294])"
      ]
     },
     "execution_count": 4,
     "metadata": {},
     "output_type": "execute_result"
    }
   ],
   "source": [
    "x[:5]"
   ]
  },
  {
   "cell_type": "code",
   "execution_count": 5,
   "id": "276cd01e",
   "metadata": {
    "ExecuteTime": {
     "end_time": "2023-02-27T14:31:37.596504Z",
     "start_time": "2023-02-27T14:31:37.592930Z"
    }
   },
   "outputs": [
    {
     "data": {
      "text/plain": [
       "dtype('float64')"
      ]
     },
     "execution_count": 5,
     "metadata": {},
     "output_type": "execute_result"
    }
   ],
   "source": [
    "x.dtype"
   ]
  },
  {
   "cell_type": "code",
   "execution_count": 6,
   "id": "4ff7dd1e",
   "metadata": {
    "ExecuteTime": {
     "end_time": "2023-02-27T14:31:37.602400Z",
     "start_time": "2023-02-27T14:31:37.598232Z"
    }
   },
   "outputs": [
    {
     "data": {
      "text/plain": [
       "[0.32795667604431317,\n",
       " -0.14876166074985095,\n",
       " 0.5929970489829097,\n",
       " -0.10451492216981852,\n",
       " -0.8702929439453454]"
      ]
     },
     "execution_count": 6,
     "metadata": {},
     "output_type": "execute_result"
    }
   ],
   "source": [
    "# cast np array x to python list xl:\n",
    "\n",
    "xl = list(x)\n",
    "xl[:5]"
   ]
  },
  {
   "cell_type": "markdown",
   "id": "c6f47f68",
   "metadata": {},
   "source": [
    "### Square each element in list:"
   ]
  },
  {
   "cell_type": "markdown",
   "id": "d8c2d6a3",
   "metadata": {},
   "source": [
    "native python `for` loop is very slow:"
   ]
  },
  {
   "cell_type": "code",
   "execution_count": 7,
   "id": "fe8a80b3",
   "metadata": {
    "ExecuteTime": {
     "end_time": "2023-02-27T14:31:44.742218Z",
     "start_time": "2023-02-27T14:31:37.604063Z"
    }
   },
   "outputs": [
    {
     "name": "stdout",
     "output_type": "stream",
     "text": [
      "886 µs ± 44.6 µs per loop (mean ± std. dev. of 7 runs, 1000 loops each)\n"
     ]
    }
   ],
   "source": [
    "%%timeit\n",
    "\n",
    "for i in xl:\n",
    "    i * i"
   ]
  },
  {
   "cell_type": "markdown",
   "id": "923b06e3",
   "metadata": {},
   "source": [
    "`numpy` multiplication is much faster!"
   ]
  },
  {
   "cell_type": "code",
   "execution_count": 8,
   "id": "4552797b",
   "metadata": {
    "ExecuteTime": {
     "end_time": "2023-02-27T14:31:47.591287Z",
     "start_time": "2023-02-27T14:31:44.743602Z"
    }
   },
   "outputs": [
    {
     "name": "stdout",
     "output_type": "stream",
     "text": [
      "3.53 µs ± 159 ns per loop (mean ± std. dev. of 7 runs, 100000 loops each)\n"
     ]
    }
   ],
   "source": [
    "%%timeit\n",
    "\n",
    "x * x  # short hand for np.multiply(x, x)"
   ]
  },
  {
   "cell_type": "markdown",
   "id": "850da484",
   "metadata": {},
   "source": [
    "## Vectorize your code!\n",
    "* runs faster\n",
    "* makes for concise code that is (usually) easier to read\n"
   ]
  },
  {
   "cell_type": "markdown",
   "id": "da8dcf72",
   "metadata": {},
   "source": [
    "### indexing"
   ]
  },
  {
   "cell_type": "code",
   "execution_count": 9,
   "id": "52f04fd2",
   "metadata": {
    "ExecuteTime": {
     "end_time": "2023-02-27T14:31:47.598111Z",
     "start_time": "2023-02-27T14:31:47.594661Z"
    }
   },
   "outputs": [
    {
     "data": {
      "text/plain": [
       "array([0, 1, 2, 3, 4, 5, 6, 7, 8, 9])"
      ]
     },
     "execution_count": 9,
     "metadata": {},
     "output_type": "execute_result"
    }
   ],
   "source": [
    "arr = np.arange(10)\n",
    "arr"
   ]
  },
  {
   "cell_type": "code",
   "execution_count": 10,
   "id": "5276216b",
   "metadata": {
    "ExecuteTime": {
     "end_time": "2023-02-27T14:31:47.602746Z",
     "start_time": "2023-02-27T14:31:47.599373Z"
    }
   },
   "outputs": [
    {
     "data": {
      "text/plain": [
       "array([0, 1, 2, 3, 4])"
      ]
     },
     "execution_count": 10,
     "metadata": {},
     "output_type": "execute_result"
    }
   ],
   "source": [
    "arr[:5]"
   ]
  },
  {
   "cell_type": "code",
   "execution_count": 11,
   "id": "737ba463",
   "metadata": {
    "ExecuteTime": {
     "end_time": "2023-02-27T14:31:47.607132Z",
     "start_time": "2023-02-27T14:31:47.603888Z"
    }
   },
   "outputs": [
    {
     "data": {
      "text/plain": [
       "array([9, 8, 7, 6, 5, 4, 3, 2, 1, 0])"
      ]
     },
     "execution_count": 11,
     "metadata": {},
     "output_type": "execute_result"
    }
   ],
   "source": [
    "arr[::-1]  # etc .."
   ]
  },
  {
   "cell_type": "markdown",
   "id": "fb61bbd9",
   "metadata": {},
   "source": [
    "boolean masks"
   ]
  },
  {
   "cell_type": "code",
   "execution_count": 12,
   "id": "94856926",
   "metadata": {
    "ExecuteTime": {
     "end_time": "2023-02-27T14:31:47.611714Z",
     "start_time": "2023-02-27T14:31:47.608440Z"
    }
   },
   "outputs": [
    {
     "data": {
      "text/plain": [
       "array([ True,  True,  True,  True, False, False, False, False, False,\n",
       "       False])"
      ]
     },
     "execution_count": 12,
     "metadata": {},
     "output_type": "execute_result"
    }
   ],
   "source": [
    "arr < 4"
   ]
  },
  {
   "cell_type": "code",
   "execution_count": 13,
   "id": "0627f310",
   "metadata": {
    "ExecuteTime": {
     "end_time": "2023-02-27T14:31:47.616305Z",
     "start_time": "2023-02-27T14:31:47.613075Z"
    }
   },
   "outputs": [
    {
     "data": {
      "text/plain": [
       "array([0, 1, 2, 3])"
      ]
     },
     "execution_count": 13,
     "metadata": {},
     "output_type": "execute_result"
    }
   ],
   "source": [
    "arr[arr < 4]"
   ]
  },
  {
   "cell_type": "markdown",
   "id": "1e6704b3",
   "metadata": {},
   "source": [
    "### matrix multiplication"
   ]
  },
  {
   "cell_type": "code",
   "execution_count": 14,
   "id": "dcaf9035",
   "metadata": {
    "ExecuteTime": {
     "end_time": "2023-02-27T14:31:47.620346Z",
     "start_time": "2023-02-27T14:31:47.617590Z"
    }
   },
   "outputs": [],
   "source": [
    "a = np.random.rand(5, 3)\n",
    "b = np.random.rand(3, 2)\n"
   ]
  },
  {
   "cell_type": "code",
   "execution_count": 15,
   "id": "d19d7794",
   "metadata": {
    "ExecuteTime": {
     "end_time": "2023-02-27T14:31:47.624385Z",
     "start_time": "2023-02-27T14:31:47.621701Z"
    }
   },
   "outputs": [
    {
     "data": {
      "text/plain": [
       "(5, 3)"
      ]
     },
     "execution_count": 15,
     "metadata": {},
     "output_type": "execute_result"
    }
   ],
   "source": [
    "a.shape"
   ]
  },
  {
   "cell_type": "code",
   "execution_count": 16,
   "id": "9da08bb1",
   "metadata": {
    "ExecuteTime": {
     "end_time": "2023-02-27T14:31:47.700324Z",
     "start_time": "2023-02-27T14:31:47.625745Z"
    }
   },
   "outputs": [
    {
     "ename": "ValueError",
     "evalue": "operands could not be broadcast together with shapes (5,3) (3,2) ",
     "output_type": "error",
     "traceback": [
      "\u001b[0;31m---------------------------------------------------------------------------\u001b[0m",
      "\u001b[0;31mValueError\u001b[0m                                Traceback (most recent call last)",
      "\u001b[0;32m/var/folders/gx/8ns8rp2533n_nz4v8fscjy3r0000gn/T/ipykernel_52418/937666681.py\u001b[0m in \u001b[0;36m<module>\u001b[0;34m\u001b[0m\n\u001b[0;32m----> 1\u001b[0;31m \u001b[0ma\u001b[0m \u001b[0;34m*\u001b[0m \u001b[0mb\u001b[0m\u001b[0;34m\u001b[0m\u001b[0;34m\u001b[0m\u001b[0m\n\u001b[0m",
      "\u001b[0;31mValueError\u001b[0m: operands could not be broadcast together with shapes (5,3) (3,2) "
     ]
    }
   ],
   "source": [
    "a * b"
   ]
  },
  {
   "cell_type": "code",
   "execution_count": null,
   "id": "44146bb2",
   "metadata": {
    "ExecuteTime": {
     "end_time": "2023-02-27T14:31:47.701797Z",
     "start_time": "2023-02-27T14:31:47.701785Z"
    }
   },
   "outputs": [],
   "source": [
    "(a @ b).shape"
   ]
  },
  {
   "cell_type": "code",
   "execution_count": null,
   "id": "03f82530",
   "metadata": {
    "ExecuteTime": {
     "end_time": "2023-02-27T14:31:47.702810Z",
     "start_time": "2023-02-27T14:31:47.702796Z"
    }
   },
   "outputs": [],
   "source": [
    "np.dot(a, b)"
   ]
  },
  {
   "cell_type": "code",
   "execution_count": null,
   "id": "a861d936",
   "metadata": {
    "ExecuteTime": {
     "end_time": "2023-02-27T14:31:47.703687Z",
     "start_time": "2023-02-27T14:31:47.703669Z"
    }
   },
   "outputs": [],
   "source": [
    "a @ b  # for newer versions of python (which you should be using!)\n",
    "assert np.array_equal(a @ b, np.dot(a, b))"
   ]
  },
  {
   "cell_type": "markdown",
   "id": "c6906d5a",
   "metadata": {},
   "source": [
    "### A few useful numpy functions"
   ]
  },
  {
   "cell_type": "code",
   "execution_count": null,
   "id": "c0f06bc1",
   "metadata": {
    "ExecuteTime": {
     "end_time": "2023-02-27T14:31:47.705550Z",
     "start_time": "2023-02-27T14:31:47.705531Z"
    }
   },
   "outputs": [],
   "source": [
    "np.arange(5)"
   ]
  },
  {
   "cell_type": "code",
   "execution_count": null,
   "id": "2ccd8a89",
   "metadata": {
    "ExecuteTime": {
     "end_time": "2023-02-27T14:31:47.706701Z",
     "start_time": "2023-02-27T14:31:47.706684Z"
    }
   },
   "outputs": [],
   "source": [
    "np.arange(0, 5, 0.5)"
   ]
  },
  {
   "cell_type": "code",
   "execution_count": null,
   "id": "e862a488",
   "metadata": {
    "ExecuteTime": {
     "end_time": "2023-02-27T14:31:47.707981Z",
     "start_time": "2023-02-27T14:31:47.707965Z"
    }
   },
   "outputs": [],
   "source": [
    "np.linspace(0, 5, 11)"
   ]
  },
  {
   "cell_type": "code",
   "execution_count": null,
   "id": "a38e6835",
   "metadata": {
    "ExecuteTime": {
     "end_time": "2023-02-27T14:31:47.708894Z",
     "start_time": "2023-02-27T14:31:47.708883Z"
    }
   },
   "outputs": [],
   "source": [
    "z = np.random.randn(500, 10)\n",
    "\n",
    "print('means')\n",
    "print(z.mean(0))\n",
    "\n",
    "print()\n",
    "print('variance')\n",
    "print(z.var(0))"
   ]
  },
  {
   "cell_type": "code",
   "execution_count": null,
   "id": "acfb48d3",
   "metadata": {
    "ExecuteTime": {
     "end_time": "2023-02-27T14:31:47.709945Z",
     "start_time": "2023-02-27T14:31:47.709925Z"
    }
   },
   "outputs": [],
   "source": [
    "z.max(0)"
   ]
  },
  {
   "cell_type": "code",
   "execution_count": null,
   "id": "ea258f5b",
   "metadata": {
    "ExecuteTime": {
     "end_time": "2023-02-27T14:31:47.711213Z",
     "start_time": "2023-02-27T14:31:47.711202Z"
    }
   },
   "outputs": [],
   "source": [
    "np.unique(a)"
   ]
  },
  {
   "cell_type": "markdown",
   "id": "199a2712",
   "metadata": {},
   "source": [
    "There are many more and it is worth learning them.\n",
    "\n",
    "Don't reimplement numpy/scipy functions, you will just wind up with buggy & slow versions of them"
   ]
  }
 ],
 "metadata": {
  "kernelspec": {
   "display_name": "Python 3 (ipykernel)",
   "language": "python",
   "name": "python3"
  },
  "language_info": {
   "codemirror_mode": {
    "name": "ipython",
    "version": 3
   },
   "file_extension": ".py",
   "mimetype": "text/x-python",
   "name": "python",
   "nbconvert_exporter": "python",
   "pygments_lexer": "ipython3",
   "version": "3.7.11"
  }
 },
 "nbformat": 4,
 "nbformat_minor": 5
}
