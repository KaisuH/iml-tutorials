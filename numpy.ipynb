{
 "cells": [
  {
   "cell_type": "markdown",
   "id": "ed753651",
   "metadata": {},
   "source": [
    "### (reminder to self: show the slide first)"
   ]
  },
  {
   "cell_type": "code",
   "execution_count": 2,
   "id": "d1610ab4",
   "metadata": {
    "ExecuteTime": {
     "end_time": "2022-03-08T08:58:39.039988Z",
     "start_time": "2022-03-08T08:58:38.852067Z"
    }
   },
   "outputs": [],
   "source": [
    "import numpy as np\n",
    "import random"
   ]
  },
  {
   "cell_type": "code",
   "execution_count": 12,
   "id": "5dc1e932",
   "metadata": {
    "ExecuteTime": {
     "end_time": "2022-03-08T08:59:24.624854Z",
     "start_time": "2022-03-08T08:59:24.619501Z"
    }
   },
   "outputs": [
    {
     "data": {
      "text/plain": [
       "array([-1.442928  ,  0.6071328 ,  0.66751396, -2.37045438, -2.00907059])"
      ]
     },
     "execution_count": 12,
     "metadata": {},
     "output_type": "execute_result"
    }
   ],
   "source": [
    "x = np.random.randn(10000)\n",
    "x[:5]"
   ]
  },
  {
   "cell_type": "code",
   "execution_count": 13,
   "id": "276cd01e",
   "metadata": {
    "ExecuteTime": {
     "end_time": "2022-03-08T08:59:25.502192Z",
     "start_time": "2022-03-08T08:59:25.497066Z"
    }
   },
   "outputs": [
    {
     "data": {
      "text/plain": [
       "dtype('float64')"
      ]
     },
     "execution_count": 13,
     "metadata": {},
     "output_type": "execute_result"
    }
   ],
   "source": [
    "x.dtype"
   ]
  },
  {
   "cell_type": "code",
   "execution_count": 14,
   "id": "4ff7dd1e",
   "metadata": {
    "ExecuteTime": {
     "end_time": "2022-03-08T08:59:27.506516Z",
     "start_time": "2022-03-08T08:59:27.500880Z"
    }
   },
   "outputs": [
    {
     "data": {
      "text/plain": [
       "[-1.44292799895912,\n",
       " 0.6071328027982574,\n",
       " 0.6675139596563933,\n",
       " -2.3704543800109574,\n",
       " -2.0090705942486933]"
      ]
     },
     "execution_count": 14,
     "metadata": {},
     "output_type": "execute_result"
    }
   ],
   "source": [
    "# cast np array x to python list xl:\n",
    "\n",
    "xl = list(x)\n",
    "xl[:5]"
   ]
  },
  {
   "cell_type": "markdown",
   "id": "c6f47f68",
   "metadata": {},
   "source": [
    "Compare element-wise multiplication in python and numpy:"
   ]
  },
  {
   "cell_type": "code",
   "execution_count": 15,
   "id": "4552797b",
   "metadata": {
    "ExecuteTime": {
     "end_time": "2022-03-08T08:59:43.563427Z",
     "start_time": "2022-03-08T08:59:40.920169Z"
    }
   },
   "outputs": [
    {
     "name": "stdout",
     "output_type": "stream",
     "text": [
      "3.26 µs ± 225 ns per loop (mean ± std. dev. of 7 runs, 100000 loops each)\n"
     ]
    }
   ],
   "source": [
    "%%timeit\n",
    "x * x"
   ]
  },
  {
   "cell_type": "markdown",
   "id": "bfcaa9e7",
   "metadata": {},
   "source": [
    "this is even doing less and is still 100x slower:"
   ]
  },
  {
   "cell_type": "code",
   "execution_count": 16,
   "id": "fe8a80b3",
   "metadata": {
    "ExecuteTime": {
     "end_time": "2022-03-08T08:59:54.254281Z",
     "start_time": "2022-03-08T08:59:46.754063Z"
    }
   },
   "outputs": [
    {
     "name": "stdout",
     "output_type": "stream",
     "text": [
      "913 µs ± 40.2 µs per loop (mean ± std. dev. of 7 runs, 1000 loops each)\n"
     ]
    }
   ],
   "source": [
    "%%timeit\n",
    "\n",
    "for i in xl:\n",
    "    i * i"
   ]
  },
  {
   "cell_type": "markdown",
   "id": "850da484",
   "metadata": {},
   "source": [
    "## Vectorize your code!\n",
    "* runs faster\n",
    "* makes for concise code that is (usually) easy to read\n"
   ]
  },
  {
   "cell_type": "markdown",
   "id": "da8dcf72",
   "metadata": {},
   "source": [
    "### indexing"
   ]
  },
  {
   "cell_type": "code",
   "execution_count": 6,
   "id": "52f04fd2",
   "metadata": {
    "ExecuteTime": {
     "end_time": "2022-02-16T18:49:52.355381Z",
     "start_time": "2022-02-16T18:49:52.351153Z"
    }
   },
   "outputs": [
    {
     "data": {
      "text/plain": [
       "array([0, 1, 2, 3, 4, 5, 6, 7, 8, 9])"
      ]
     },
     "execution_count": 6,
     "metadata": {},
     "output_type": "execute_result"
    }
   ],
   "source": [
    "arr = np.arange(10)\n",
    "arr"
   ]
  },
  {
   "cell_type": "code",
   "execution_count": 7,
   "id": "5276216b",
   "metadata": {
    "ExecuteTime": {
     "end_time": "2022-02-16T18:49:52.361574Z",
     "start_time": "2022-02-16T18:49:52.357548Z"
    }
   },
   "outputs": [
    {
     "data": {
      "text/plain": [
       "array([0, 1, 2, 3, 4])"
      ]
     },
     "execution_count": 7,
     "metadata": {},
     "output_type": "execute_result"
    }
   ],
   "source": [
    "arr[:5]"
   ]
  },
  {
   "cell_type": "code",
   "execution_count": 8,
   "id": "0dc9f344",
   "metadata": {
    "ExecuteTime": {
     "end_time": "2022-02-16T18:49:52.369354Z",
     "start_time": "2022-02-16T18:49:52.364220Z"
    }
   },
   "outputs": [
    {
     "data": {
      "text/plain": [
       "array([5, 6, 7, 8, 9])"
      ]
     },
     "execution_count": 8,
     "metadata": {},
     "output_type": "execute_result"
    }
   ],
   "source": [
    "arr[5:]"
   ]
  },
  {
   "cell_type": "code",
   "execution_count": 9,
   "id": "310dc44e",
   "metadata": {
    "ExecuteTime": {
     "end_time": "2022-02-16T18:49:52.378431Z",
     "start_time": "2022-02-16T18:49:52.374752Z"
    }
   },
   "outputs": [
    {
     "data": {
      "text/plain": [
       "array([1, 2])"
      ]
     },
     "execution_count": 9,
     "metadata": {},
     "output_type": "execute_result"
    }
   ],
   "source": [
    "arr[1:3]"
   ]
  },
  {
   "cell_type": "code",
   "execution_count": 10,
   "id": "26ca377f",
   "metadata": {
    "ExecuteTime": {
     "end_time": "2022-02-16T18:49:52.386151Z",
     "start_time": "2022-02-16T18:49:52.381198Z"
    }
   },
   "outputs": [
    {
     "data": {
      "text/plain": [
       "array([2, 3, 4, 5, 6, 7])"
      ]
     },
     "execution_count": 10,
     "metadata": {},
     "output_type": "execute_result"
    }
   ],
   "source": [
    "arr[2:-2]"
   ]
  },
  {
   "cell_type": "code",
   "execution_count": 11,
   "id": "a74af401",
   "metadata": {
    "ExecuteTime": {
     "end_time": "2022-02-16T18:49:52.413122Z",
     "start_time": "2022-02-16T18:49:52.387854Z"
    }
   },
   "outputs": [
    {
     "data": {
      "text/plain": [
       "array([0, 2, 4, 6, 8])"
      ]
     },
     "execution_count": 11,
     "metadata": {},
     "output_type": "execute_result"
    }
   ],
   "source": [
    "arr[::2]"
   ]
  },
  {
   "cell_type": "code",
   "execution_count": 12,
   "id": "737ba463",
   "metadata": {
    "ExecuteTime": {
     "end_time": "2022-02-16T18:49:52.436675Z",
     "start_time": "2022-02-16T18:49:52.418318Z"
    }
   },
   "outputs": [
    {
     "data": {
      "text/plain": [
       "array([9, 8, 7, 6, 5, 4, 3, 2, 1, 0])"
      ]
     },
     "execution_count": 12,
     "metadata": {},
     "output_type": "execute_result"
    }
   ],
   "source": [
    "arr[::-1]"
   ]
  },
  {
   "cell_type": "code",
   "execution_count": 13,
   "id": "94856926",
   "metadata": {
    "ExecuteTime": {
     "end_time": "2022-02-16T18:49:52.442892Z",
     "start_time": "2022-02-16T18:49:52.438701Z"
    }
   },
   "outputs": [
    {
     "data": {
      "text/plain": [
       "array([ True,  True,  True,  True, False, False, False, False, False,\n",
       "       False])"
      ]
     },
     "execution_count": 13,
     "metadata": {},
     "output_type": "execute_result"
    }
   ],
   "source": [
    "arr < 4"
   ]
  },
  {
   "cell_type": "code",
   "execution_count": 14,
   "id": "0627f310",
   "metadata": {
    "ExecuteTime": {
     "end_time": "2022-02-16T18:49:52.448626Z",
     "start_time": "2022-02-16T18:49:52.444792Z"
    }
   },
   "outputs": [
    {
     "data": {
      "text/plain": [
       "array([0, 1, 2, 3])"
      ]
     },
     "execution_count": 14,
     "metadata": {},
     "output_type": "execute_result"
    }
   ],
   "source": [
    "arr[arr < 4]"
   ]
  },
  {
   "cell_type": "markdown",
   "id": "1e6704b3",
   "metadata": {},
   "source": [
    "### matrix multiplication"
   ]
  },
  {
   "cell_type": "code",
   "execution_count": 15,
   "id": "dcaf9035",
   "metadata": {
    "ExecuteTime": {
     "end_time": "2022-02-16T18:49:52.454467Z",
     "start_time": "2022-02-16T18:49:52.450521Z"
    }
   },
   "outputs": [],
   "source": [
    "a = np.random.rand(5, 3)\n",
    "b = np.random.rand(3, 2)\n"
   ]
  },
  {
   "cell_type": "code",
   "execution_count": 16,
   "id": "9da08bb1",
   "metadata": {
    "ExecuteTime": {
     "end_time": "2022-02-16T18:49:52.573865Z",
     "start_time": "2022-02-16T18:49:52.456605Z"
    }
   },
   "outputs": [
    {
     "ename": "ValueError",
     "evalue": "operands could not be broadcast together with shapes (5,3) (3,2) ",
     "output_type": "error",
     "traceback": [
      "\u001b[0;31m---------------------------------------------------------------------------\u001b[0m",
      "\u001b[0;31mValueError\u001b[0m                                Traceback (most recent call last)",
      "\u001b[0;32m/var/folders/gx/8ns8rp2533n_nz4v8fscjy3r0000gn/T/ipykernel_59018/937666681.py\u001b[0m in \u001b[0;36m<module>\u001b[0;34m\u001b[0m\n\u001b[0;32m----> 1\u001b[0;31m \u001b[0ma\u001b[0m \u001b[0;34m*\u001b[0m \u001b[0mb\u001b[0m\u001b[0;34m\u001b[0m\u001b[0;34m\u001b[0m\u001b[0m\n\u001b[0m",
      "\u001b[0;31mValueError\u001b[0m: operands could not be broadcast together with shapes (5,3) (3,2) "
     ]
    }
   ],
   "source": [
    "a * b"
   ]
  },
  {
   "cell_type": "code",
   "execution_count": 17,
   "id": "03f82530",
   "metadata": {
    "ExecuteTime": {
     "end_time": "2022-02-16T18:49:56.971127Z",
     "start_time": "2022-02-16T18:49:56.966229Z"
    }
   },
   "outputs": [
    {
     "data": {
      "text/plain": [
       "array([[1.18886323, 0.85167412],\n",
       "       [0.69132077, 0.55869093],\n",
       "       [0.57016627, 0.70870708],\n",
       "       [1.35638108, 0.90653991],\n",
       "       [1.18157308, 0.88038129]])"
      ]
     },
     "execution_count": 17,
     "metadata": {},
     "output_type": "execute_result"
    }
   ],
   "source": [
    "np.dot(a, b)"
   ]
  },
  {
   "cell_type": "code",
   "execution_count": 18,
   "id": "a861d936",
   "metadata": {
    "ExecuteTime": {
     "end_time": "2022-02-16T18:49:57.462717Z",
     "start_time": "2022-02-16T18:49:57.459585Z"
    }
   },
   "outputs": [],
   "source": [
    "a @ b  # for newer versions of python (which you should be using)\n",
    "assert np.array_equal(a @ b, np.dot(a, b))"
   ]
  },
  {
   "cell_type": "markdown",
   "id": "c6906d5a",
   "metadata": {},
   "source": [
    "### A few useful numpy functions"
   ]
  },
  {
   "cell_type": "code",
   "execution_count": 30,
   "id": "c0f06bc1",
   "metadata": {
    "ExecuteTime": {
     "end_time": "2022-02-22T09:07:47.585489Z",
     "start_time": "2022-02-22T09:07:47.580764Z"
    }
   },
   "outputs": [
    {
     "data": {
      "text/plain": [
       "array([0, 1, 2, 3, 4])"
      ]
     },
     "execution_count": 30,
     "metadata": {},
     "output_type": "execute_result"
    }
   ],
   "source": [
    "np.arange(5)"
   ]
  },
  {
   "cell_type": "code",
   "execution_count": 32,
   "id": "2ccd8a89",
   "metadata": {
    "ExecuteTime": {
     "end_time": "2022-02-22T09:08:03.309313Z",
     "start_time": "2022-02-22T09:08:03.305488Z"
    }
   },
   "outputs": [
    {
     "data": {
      "text/plain": [
       "array([0. , 0.5, 1. , 1.5, 2. , 2.5, 3. , 3.5, 4. , 4.5])"
      ]
     },
     "execution_count": 32,
     "metadata": {},
     "output_type": "execute_result"
    }
   ],
   "source": [
    "np.arange(0, 5, 0.5)"
   ]
  },
  {
   "cell_type": "code",
   "execution_count": 34,
   "id": "e862a488",
   "metadata": {
    "ExecuteTime": {
     "end_time": "2022-02-22T09:08:10.102923Z",
     "start_time": "2022-02-22T09:08:10.098760Z"
    }
   },
   "outputs": [
    {
     "data": {
      "text/plain": [
       "array([0. , 0.5, 1. , 1.5, 2. , 2.5, 3. , 3.5, 4. , 4.5, 5. ])"
      ]
     },
     "execution_count": 34,
     "metadata": {},
     "output_type": "execute_result"
    }
   ],
   "source": [
    "np.linspace(0, 5, 11)"
   ]
  },
  {
   "cell_type": "code",
   "execution_count": 14,
   "id": "a38e6835",
   "metadata": {
    "ExecuteTime": {
     "end_time": "2022-02-22T09:06:01.242924Z",
     "start_time": "2022-02-22T09:06:01.236985Z"
    }
   },
   "outputs": [
    {
     "name": "stdout",
     "output_type": "stream",
     "text": [
      "means\n",
      "[ 0.09219057 -0.07997817  0.00594129  0.01292845 -0.02573719  0.03692442\n",
      " -0.03650778 -0.08611321  0.00152045  0.06864385]\n",
      "\n",
      "variance\n",
      "[1.07264922 0.97661327 0.97542888 1.00028603 0.99051005 0.97876361\n",
      " 0.99297789 1.02407552 0.96730572 0.97152496]\n"
     ]
    }
   ],
   "source": [
    "z = np.random.randn(500, 10)\n",
    "\n",
    "print('means')\n",
    "print(z.mean(0))\n",
    "\n",
    "print()\n",
    "print('variance')\n",
    "print(z.var(0))"
   ]
  },
  {
   "cell_type": "code",
   "execution_count": 37,
   "id": "acfb48d3",
   "metadata": {
    "ExecuteTime": {
     "end_time": "2022-02-22T09:09:31.085022Z",
     "start_time": "2022-02-22T09:09:31.079965Z"
    }
   },
   "outputs": [
    {
     "data": {
      "text/plain": [
       "array([3.20823566, 3.01227803, 3.01969138, 3.49240339, 3.16626128,\n",
       "       2.6226179 , 2.5771921 , 3.66611077, 2.29943785, 3.03424321])"
      ]
     },
     "execution_count": 37,
     "metadata": {},
     "output_type": "execute_result"
    }
   ],
   "source": [
    "z.max(0)"
   ]
  },
  {
   "cell_type": "markdown",
   "id": "199a2712",
   "metadata": {},
   "source": [
    "There are many more and it is worth learning them.\n",
    "\n",
    "Don't reimplement numpy/scipy functions, you will just wind up with buggy & slow versions of them"
   ]
  }
 ],
 "metadata": {
  "kernelspec": {
   "display_name": "Python 3 (ipykernel)",
   "language": "python",
   "name": "python3"
  },
  "language_info": {
   "codemirror_mode": {
    "name": "ipython",
    "version": 3
   },
   "file_extension": ".py",
   "mimetype": "text/x-python",
   "name": "python",
   "nbconvert_exporter": "python",
   "pygments_lexer": "ipython3",
   "version": "3.7.11"
  }
 },
 "nbformat": 4,
 "nbformat_minor": 5
}
