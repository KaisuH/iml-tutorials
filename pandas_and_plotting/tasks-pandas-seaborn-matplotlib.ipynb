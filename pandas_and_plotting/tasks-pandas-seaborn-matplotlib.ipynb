{
 "cells": [
  {
   "cell_type": "code",
   "execution_count": null,
   "id": "398a7d90",
   "metadata": {
    "ExecuteTime": {
     "end_time": "2023-02-27T13:42:35.909258Z",
     "start_time": "2023-02-27T13:42:33.682467Z"
    }
   },
   "outputs": [],
   "source": [
    "import numpy as np\n",
    "import pandas as pd"
   ]
  },
  {
   "cell_type": "markdown",
   "id": "598557db",
   "metadata": {},
   "source": [
    "# Intro to Pandas"
   ]
  },
  {
   "cell_type": "markdown",
   "id": "2c4af31c",
   "metadata": {},
   "source": [
    "# 1. Load data\n",
    "\n",
    "We are using house sale price dataset that can be obtained from Kaggle: https://www.kaggle.com/c/house-prices-advanced-regression-techniques/overview/description\n",
    "\n",
    "With 79 explanatory variables describing (almost) every aspect of residential homes in Ames, Iowa, the competition challenges you to predict the final price of each home."
   ]
  },
  {
   "cell_type": "markdown",
   "id": "bb34e50a",
   "metadata": {},
   "source": [
    "## Tasks:\n",
    "1.1. Load `train.csv` file using `pd.read_csv()` function.\n",
    "\n",
    "1.2. Print top 10 and last 10 observations in the table using `.head()` and `.tail()`\n",
    "\n",
    "1.3. Print all the data columns names using method `.columns`\n",
    "\n",
    "1.4. Print number of rows and columns using method `.shape`\n",
    "\n",
    "1.5. You may also want to increase maximal displayed pandas columns: set `pd.options.display.max_columns` to 30"
   ]
  },
  {
   "cell_type": "code",
   "execution_count": null,
   "id": "2a049498",
   "metadata": {},
   "outputs": [],
   "source": []
  },
  {
   "cell_type": "markdown",
   "id": "523600eb",
   "metadata": {},
   "source": [
    "# 2. Data exploration"
   ]
  },
  {
   "cell_type": "markdown",
   "id": "1e81a17e",
   "metadata": {
    "ExecuteTime": {
     "end_time": "2022-02-15T13:49:44.832182Z",
     "start_time": "2022-02-15T13:49:44.823601Z"
    }
   },
   "source": [
    "## Tasks:\n",
    "2.1. Use pandas `.describe()` to display basic statistic about the data.\n",
    "\n",
    "2.2. Use methods `.min()`, `.max()`, `.mean()`, `.std()` to display specific statistics about the data.\n",
    "\n",
    "2.3. Count number of unique values in every column `.nunique()`. What does this tells you about the features, which are most likely categorical and which are most likely numerical?\n",
    "\n",
    "2.4. Use method `.count()` to count the number of non-NA cells in each column. Are there any missing values in the data? \n",
    "Missing values can be imputed with a mean value, dummy value or based on some other logic depending on the feature using `.fillna()` method.\n",
    "\n",
    "2.5. Use method `.dtypes` field to display data types in columns. What are the columns with dtype int64?\n",
    "\n",
    "2.6. Use method `.value_counts()` to count number of unique values in a specific column."
   ]
  },
  {
   "cell_type": "code",
   "execution_count": null,
   "id": "9c4dde05",
   "metadata": {},
   "outputs": [],
   "source": []
  },
  {
   "cell_type": "markdown",
   "id": "de5f53b0",
   "metadata": {},
   "source": [
    "# 3. Data selection\n",
    "\n",
    "In pandas.DataFrame you can select\n",
    "\n",
    "1. Row/s by position (integer number \\[0 .. number of rows - 1\\]) `.iloc` or by DataFrame.index `.loc`:\n",
    "```\n",
    "data.loc[0]\n",
    "data.loc[5:10]\n",
    "data.iloc[0]\n",
    "data.iloc[5:10]\n",
    "```\n",
    "\n",
    "2. Columns by name\n",
    "```\n",
    "data[columname]\n",
    "```\n",
    "3. Row/s and columns\n",
    "```\n",
    "data.loc[10, columname]\n",
    "data.iloc[10, columname]\n",
    "```\n",
    "4. Using boolean mask\n",
    "```\n",
    "data[data[columname] > value]\n",
    "```\n",
    "You can combine multiple conditions using `&` or `|` (and, or)\n",
    "\n",
    "```\n",
    "cond1 = data[columname1] > value1\n",
    "cond2 = data[columname2] > value2\n",
    "data[cond1 & cond2]\n",
    "```\n",
    "5. Using queries `.query()`:\n",
    "```\n",
    "value = 5\n",
    "data.query(\"columname > value\")\n",
    "```\n",
    "You could combine multiple conditions using `and`, `or`\n",
    "\n",
    "```\n",
    "data.query(\"(columname1 > value1) and (columname2 > value2)\")\n",
    "```\n",
    "and others. See https://pandas.pydata.org/pandas-docs/stable/user_guide/indexing.html for more examples.\n"
   ]
  },
  {
   "cell_type": "markdown",
   "id": "f026f453",
   "metadata": {
    "ExecuteTime": {
     "end_time": "2022-02-15T18:43:04.505075Z",
     "start_time": "2022-02-15T18:43:04.497757Z"
    }
   },
   "source": [
    "## Tasks:\n",
    "\n",
    "3.1. How many bedrooms does a house in row 7 have?\n",
    "\n",
    "3.2. How many houses has 3 kitchens?\n",
    "\n",
    "3.3. What is the percentage of houses built earlier than 1970?\n",
    "\n",
    "3.4. When was built the most expensive house?\n",
    "\n",
    "3.5. What roof style has a house built in 2005 with a central air conditioning and 11911 sqft lot size?\n",
    "\n",
    "3.6. What is the median lot size in the most popular zone?"
   ]
  },
  {
   "cell_type": "code",
   "execution_count": null,
   "id": "5bbcfbe2",
   "metadata": {},
   "outputs": [],
   "source": []
  },
  {
   "cell_type": "markdown",
   "id": "ac0a988d",
   "metadata": {},
   "source": [
    "# 4. Groupby\n",
    "from the documentation https://pandas.pydata.org/pandas-docs/stable/user_guide/groupby.html\n",
    "\n",
    "By “group by” we are referring to a process involving one or more of the following steps:\n",
    "\n",
    "    - Splitting the data into groups based on some criteria.\n",
    "    - Applying a function to each group independently.\n",
    "    - Combining the results into a data structure.\n",
    "    \n",
    "---\n",
    "`.groupby()` is one of the most powerfull tool for feature engineering. Very often it is used to group object with the same categorical characteristics and compute some statistics (e.g. mean, max, etc.) of a their numerical characteric. "
   ]
  },
  {
   "cell_type": "markdown",
   "id": "955927db",
   "metadata": {
    "ExecuteTime": {
     "end_time": "2022-02-15T19:35:46.695988Z",
     "start_time": "2022-02-15T19:35:46.692000Z"
    }
   },
   "source": [
    "## Tasks\n",
    "4.1. Compute mean remodel date (`YearRemodAdd`) for each overall condition (`OverallCond`)\n",
    "\n",
    "4.2. Compute min and max price for each date (MM.YYYY)\n",
    "\n",
    "4.3. Create a new feature `StyleArea` for `df_train` indicating minimum above ground living area (`GrLivArea`) within the group of houses with specific `RoofStyle`, `Foundation`, `Heating`, and `GarageType`. "
   ]
  },
  {
   "cell_type": "code",
   "execution_count": null,
   "id": "9a2b1414",
   "metadata": {},
   "outputs": [],
   "source": []
  },
  {
   "cell_type": "markdown",
   "id": "81058935",
   "metadata": {},
   "source": [
    "# 5. Data visualisation"
   ]
  },
  {
   "cell_type": "code",
   "execution_count": null,
   "id": "58ca2826",
   "metadata": {
    "ExecuteTime": {
     "end_time": "2023-02-27T13:42:37.180443Z",
     "start_time": "2023-02-27T13:42:35.911687Z"
    }
   },
   "outputs": [],
   "source": [
    "import seaborn as sns\n",
    "sns.set(font_scale=1.2, style=\"whitegrid\", palette='magma')\n",
    "import matplotlib.pyplot as plt"
   ]
  },
  {
   "cell_type": "markdown",
   "id": "65851492",
   "metadata": {},
   "source": [
    "## Tasks\n",
    "\n",
    "5.1. Plot number of missing values as pandas `bar` plot\n",
    "\n",
    "5.2. Plot target variable distribution using `sns.distplot`\n",
    "\n",
    "5.3. Visualise feature correlation matrix using `sns.heatmap`\n",
    "\n",
    "5.4. Use `sns.boxplot` to show sale price variability within each OverallQual category\n",
    "\n",
    "5.5. Study relationship between price and GrLivArea feature (above grade (ground) living area square feet) using `scatter` plot\n",
    "\n",
    "5.6. Use `sns.pairplot` to visialise pairwise relations for 'SalePrice', 'OverallQual', 'GrLivArea', 'GarageCars', 'TotalBsmtSF', 'FullBath', and 'YearBuilt'.\n",
    "\n",
    "5.7. Use `sns.FacetGrid` to create the following figure <img src=\"FacetGrid.png\" width=\"600\">"
   ]
  },
  {
   "cell_type": "code",
   "execution_count": null,
   "id": "be02b42e",
   "metadata": {},
   "outputs": [],
   "source": []
  }
 ],
 "metadata": {
  "kernelspec": {
   "display_name": "Python 3",
   "language": "python",
   "name": "python3"
  },
  "language_info": {
   "codemirror_mode": {
    "name": "ipython",
    "version": 3
   },
   "file_extension": ".py",
   "mimetype": "text/x-python",
   "name": "python",
   "nbconvert_exporter": "python",
   "pygments_lexer": "ipython3",
   "version": "3.8.8"
  }
 },
 "nbformat": 4,
 "nbformat_minor": 5
}
