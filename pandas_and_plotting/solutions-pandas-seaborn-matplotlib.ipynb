{
 "cells": [
  {
   "cell_type": "code",
   "execution_count": null,
   "id": "398a7d90",
   "metadata": {
    "ExecuteTime": {
     "end_time": "2023-02-27T13:42:53.967574Z",
     "start_time": "2023-02-27T13:42:52.509226Z"
    }
   },
   "outputs": [],
   "source": [
    "import numpy as np\n",
    "import pandas as pd"
   ]
  },
  {
   "cell_type": "markdown",
   "id": "598557db",
   "metadata": {},
   "source": [
    "# Intro to Pandas"
   ]
  },
  {
   "cell_type": "markdown",
   "id": "2c4af31c",
   "metadata": {},
   "source": [
    "# 1. Load data\n",
    "\n",
    "We are using house sale price dataset that can be obtained from Kaggle: https://www.kaggle.com/c/house-prices-advanced-regression-techniques/overview/description\n",
    "\n",
    "With 79 explanatory variables describing (almost) every aspect of residential homes in Ames, Iowa, the competition challenges you to predict the final price of each home."
   ]
  },
  {
   "cell_type": "markdown",
   "id": "bb34e50a",
   "metadata": {},
   "source": [
    "## Tasks:\n",
    "1.1. Load `train.csv` file using `pd.read_csv()` function."
   ]
  },
  {
   "cell_type": "code",
   "execution_count": null,
   "id": "c03a7806",
   "metadata": {
    "ExecuteTime": {
     "end_time": "2023-02-27T13:42:53.994836Z",
     "start_time": "2023-02-27T13:42:53.969950Z"
    }
   },
   "outputs": [],
   "source": [
    "path = !pwd\n",
    "path = path[0]\n",
    "path"
   ]
  },
  {
   "cell_type": "code",
   "execution_count": null,
   "id": "22d3bdde",
   "metadata": {
    "ExecuteTime": {
     "end_time": "2023-02-27T13:42:54.028944Z",
     "start_time": "2023-02-27T13:42:53.998930Z"
    }
   },
   "outputs": [],
   "source": [
    "df_train = pd.read_csv(path+'/house-prices-advanced-regression-techniques/train.csv')"
   ]
  },
  {
   "cell_type": "markdown",
   "id": "c40c8656",
   "metadata": {
    "ExecuteTime": {
     "end_time": "2023-02-23T16:53:51.248543Z",
     "start_time": "2023-02-23T16:53:51.242955Z"
    }
   },
   "source": [
    "1.2. Print top 10 and last 10 observations in the table using `.head()` and `.tail()`"
   ]
  },
  {
   "cell_type": "code",
   "execution_count": null,
   "id": "36ca91c5",
   "metadata": {
    "ExecuteTime": {
     "end_time": "2023-02-27T13:42:54.062754Z",
     "start_time": "2023-02-27T13:42:54.031447Z"
    }
   },
   "outputs": [],
   "source": [
    "df_train.head(10)"
   ]
  },
  {
   "cell_type": "code",
   "execution_count": null,
   "id": "60ab9d2b",
   "metadata": {
    "ExecuteTime": {
     "end_time": "2023-02-27T13:42:54.086206Z",
     "start_time": "2023-02-27T13:42:54.064910Z"
    }
   },
   "outputs": [],
   "source": [
    "df_train.tail(10)"
   ]
  },
  {
   "cell_type": "markdown",
   "id": "f5859883",
   "metadata": {
    "ExecuteTime": {
     "end_time": "2023-02-23T16:54:04.024998Z",
     "start_time": "2023-02-23T16:54:04.014439Z"
    }
   },
   "source": [
    "1.3. Print all the data columns names using method `.columns`"
   ]
  },
  {
   "cell_type": "code",
   "execution_count": null,
   "id": "277a46ee",
   "metadata": {
    "ExecuteTime": {
     "end_time": "2023-02-27T13:42:54.091701Z",
     "start_time": "2023-02-27T13:42:54.087730Z"
    }
   },
   "outputs": [],
   "source": [
    "df_train.columns"
   ]
  },
  {
   "cell_type": "markdown",
   "id": "6e19cfa9",
   "metadata": {
    "ExecuteTime": {
     "end_time": "2023-02-23T16:54:12.668163Z",
     "start_time": "2023-02-23T16:54:12.663347Z"
    }
   },
   "source": [
    "1.4. Print number of rows and columns using method `.shape`"
   ]
  },
  {
   "cell_type": "code",
   "execution_count": null,
   "id": "581d9d96",
   "metadata": {
    "ExecuteTime": {
     "end_time": "2023-02-27T13:42:54.097057Z",
     "start_time": "2023-02-27T13:42:54.093306Z"
    }
   },
   "outputs": [],
   "source": [
    "df_train.shape"
   ]
  },
  {
   "cell_type": "code",
   "execution_count": null,
   "id": "35591419",
   "metadata": {
    "ExecuteTime": {
     "end_time": "2023-02-27T13:42:54.128161Z",
     "start_time": "2023-02-27T13:42:54.100568Z"
    }
   },
   "outputs": [],
   "source": [
    "pd.options.display.max_columns = 30\n",
    "df_train.head(10)"
   ]
  },
  {
   "cell_type": "markdown",
   "id": "523600eb",
   "metadata": {},
   "source": [
    "# 2. Data exploration"
   ]
  },
  {
   "cell_type": "markdown",
   "id": "1e81a17e",
   "metadata": {
    "ExecuteTime": {
     "end_time": "2022-02-15T13:49:44.832182Z",
     "start_time": "2022-02-15T13:49:44.823601Z"
    }
   },
   "source": [
    "## Tasks:\n",
    "2.1. Use pandas `.describe()` to display basic statistic about the data."
   ]
  },
  {
   "cell_type": "code",
   "execution_count": null,
   "id": "0c5f1e29",
   "metadata": {
    "ExecuteTime": {
     "end_time": "2023-02-27T13:42:54.216583Z",
     "start_time": "2023-02-27T13:42:54.131385Z"
    }
   },
   "outputs": [],
   "source": [
    "df_train.describe()"
   ]
  },
  {
   "cell_type": "markdown",
   "id": "130a0613",
   "metadata": {},
   "source": [
    "2.2. Use methods `.min()`, `.max()`, `.mean()`, `.std()` to display specific statistics about the data."
   ]
  },
  {
   "cell_type": "code",
   "execution_count": null,
   "id": "8c24c3e4",
   "metadata": {
    "ExecuteTime": {
     "end_time": "2023-02-27T13:42:54.242983Z",
     "start_time": "2023-02-27T13:42:54.219083Z"
    }
   },
   "outputs": [],
   "source": [
    "df_train.mean()"
   ]
  },
  {
   "cell_type": "markdown",
   "id": "2aa75362",
   "metadata": {},
   "source": [
    "2.3. Count number of unique values in every column `.nunique()`. What does this tells you about the features, which are most likely categorical and which are most likely numerical?"
   ]
  },
  {
   "cell_type": "code",
   "execution_count": null,
   "id": "90c7b8a9",
   "metadata": {
    "ExecuteTime": {
     "end_time": "2023-02-27T13:42:54.274870Z",
     "start_time": "2023-02-27T13:42:54.245694Z"
    }
   },
   "outputs": [],
   "source": [
    "df_train.nunique()"
   ]
  },
  {
   "cell_type": "markdown",
   "id": "7f067913",
   "metadata": {},
   "source": [
    "2.4. Use method `.count()` to count the number of non-NA cells in each column. Are there any missing values in the data? \n",
    "Missing values can be imputed with a mean value, dummy value or based on some other logic depending on the feature using `.fillna()` method."
   ]
  },
  {
   "cell_type": "code",
   "execution_count": null,
   "id": "47f0ea53",
   "metadata": {
    "ExecuteTime": {
     "end_time": "2023-02-27T13:42:54.303708Z",
     "start_time": "2023-02-27T13:42:54.276424Z"
    }
   },
   "outputs": [],
   "source": [
    "df_train.count()[df_train.count()<1460]"
   ]
  },
  {
   "cell_type": "code",
   "execution_count": null,
   "id": "751c2b23",
   "metadata": {
    "ExecuteTime": {
     "end_time": "2023-02-27T13:42:54.311425Z",
     "start_time": "2023-02-27T13:42:54.306319Z"
    }
   },
   "outputs": [],
   "source": [
    "df_train.GarageYrBlt.isna().sum()"
   ]
  },
  {
   "cell_type": "markdown",
   "id": "5ff30bad",
   "metadata": {},
   "source": [
    "2.5. Use method `.dtypes` field to display data types in columns. What are the columns with dtype int64?"
   ]
  },
  {
   "cell_type": "code",
   "execution_count": null,
   "id": "a8f34d16",
   "metadata": {
    "ExecuteTime": {
     "end_time": "2023-02-27T13:42:54.320259Z",
     "start_time": "2023-02-27T13:42:54.314474Z"
    }
   },
   "outputs": [],
   "source": [
    "df_train.dtypes"
   ]
  },
  {
   "cell_type": "code",
   "execution_count": null,
   "id": "e901468a",
   "metadata": {
    "ExecuteTime": {
     "end_time": "2023-02-27T13:42:54.329563Z",
     "start_time": "2023-02-27T13:42:54.322577Z"
    }
   },
   "outputs": [],
   "source": [
    "df_train.dtypes[df_train.dtypes == \"int64\"]"
   ]
  },
  {
   "cell_type": "markdown",
   "id": "f14cd892",
   "metadata": {},
   "source": [
    "2.6. Use method `.value_counts()` to count number of unique values in a specific column."
   ]
  },
  {
   "cell_type": "code",
   "execution_count": null,
   "id": "bb064ac7",
   "metadata": {
    "ExecuteTime": {
     "end_time": "2023-02-27T13:42:54.337494Z",
     "start_time": "2023-02-27T13:42:54.331567Z"
    }
   },
   "outputs": [],
   "source": [
    "df_train.Heating.value_counts()"
   ]
  },
  {
   "cell_type": "markdown",
   "id": "de5f53b0",
   "metadata": {},
   "source": [
    "# 3. Data selection\n",
    "\n",
    "In pandas.DataFrame you can select\n",
    "\n",
    "1. Row/s by position (integer number \\[0 .. number of rows - 1\\]) `.iloc` or by DataFrame.index `.loc`:\n",
    "```\n",
    "data.loc[0]\n",
    "data.loc[5:10]\n",
    "data.iloc[0]\n",
    "data.iloc[5:10]\n",
    "```\n",
    "\n",
    "2. Columns by name\n",
    "```\n",
    "data[columname]\n",
    "```\n",
    "3. Row/s and columns\n",
    "```\n",
    "data.loc[10, columname]\n",
    "data.iloc[10, columname]\n",
    "```\n",
    "4. Using boolean mask\n",
    "```\n",
    "data[data[columname] > value]\n",
    "```\n",
    "You can combine multiple conditions using `&` or `|` (and, or)\n",
    "\n",
    "```\n",
    "cond1 = data[columname1] > value1\n",
    "cond2 = data[columname2] > value2\n",
    "data[cond1 & cond2]\n",
    "```\n",
    "5. Using queries `.query()`:\n",
    "```\n",
    "value = 5\n",
    "data.query(\"columname > value\")\n",
    "```\n",
    "You could combine multiple conditions using `and`, `or`\n",
    "\n",
    "```\n",
    "data.query(\"(columname1 > value1) and (columname2 > value2)\")\n",
    "```\n",
    "and others. See https://pandas.pydata.org/pandas-docs/stable/user_guide/indexing.html for more examples.\n"
   ]
  },
  {
   "cell_type": "markdown",
   "id": "f026f453",
   "metadata": {
    "ExecuteTime": {
     "end_time": "2022-02-15T18:43:04.505075Z",
     "start_time": "2022-02-15T18:43:04.497757Z"
    }
   },
   "source": [
    "## Tasks:\n",
    "\n",
    "3.1. How many bedrooms does a house in row 7 have?"
   ]
  },
  {
   "cell_type": "code",
   "execution_count": null,
   "id": "9d0aba64",
   "metadata": {
    "ExecuteTime": {
     "end_time": "2023-02-27T13:42:54.343811Z",
     "start_time": "2023-02-27T13:42:54.339288Z"
    }
   },
   "outputs": [],
   "source": [
    "df_train.iloc[7].BedroomAbvGr"
   ]
  },
  {
   "cell_type": "markdown",
   "id": "216d7951",
   "metadata": {},
   "source": [
    "3.2. How many houses has 3 kitchens?"
   ]
  },
  {
   "cell_type": "code",
   "execution_count": null,
   "id": "e3cf592a",
   "metadata": {
    "ExecuteTime": {
     "end_time": "2023-02-27T13:42:54.353710Z",
     "start_time": "2023-02-27T13:42:54.347223Z"
    }
   },
   "outputs": [],
   "source": [
    "df_train[df_train.KitchenAbvGr==3].shape[0]"
   ]
  },
  {
   "cell_type": "markdown",
   "id": "1c94515f",
   "metadata": {},
   "source": [
    "3.3. What is the percentage of houses built earlier than 1970?"
   ]
  },
  {
   "cell_type": "code",
   "execution_count": null,
   "id": "700df189",
   "metadata": {
    "ExecuteTime": {
     "end_time": "2023-02-27T13:42:54.363468Z",
     "start_time": "2023-02-27T13:42:54.355888Z"
    }
   },
   "outputs": [],
   "source": [
    "df_train[df_train.YearBuilt<1970].shape[0]/df_train.shape[0]"
   ]
  },
  {
   "cell_type": "markdown",
   "id": "b9f9ad71",
   "metadata": {},
   "source": [
    "3.4. When was built the most expensive house?"
   ]
  },
  {
   "cell_type": "code",
   "execution_count": null,
   "id": "26c4c86f",
   "metadata": {
    "ExecuteTime": {
     "end_time": "2023-02-27T13:42:54.376989Z",
     "start_time": "2023-02-27T13:42:54.365860Z"
    }
   },
   "outputs": [],
   "source": [
    "df_train[df_train.SalePrice==df_train.SalePrice.max()].YearBuilt"
   ]
  },
  {
   "cell_type": "markdown",
   "id": "9e8601b5",
   "metadata": {},
   "source": [
    "3.5. What roof style has a house built in 2005 with a central air conditioning and 11911 sqft lot size?"
   ]
  },
  {
   "cell_type": "code",
   "execution_count": null,
   "id": "7f4e8adf",
   "metadata": {
    "ExecuteTime": {
     "end_time": "2023-02-27T13:42:54.386061Z",
     "start_time": "2023-02-27T13:42:54.380105Z"
    }
   },
   "outputs": [],
   "source": [
    "df_train.CentralAir.unique()"
   ]
  },
  {
   "cell_type": "code",
   "execution_count": null,
   "id": "969bd6d3",
   "metadata": {
    "ExecuteTime": {
     "end_time": "2023-02-27T13:42:54.395850Z",
     "start_time": "2023-02-27T13:42:54.388281Z"
    }
   },
   "outputs": [],
   "source": [
    "cond1 = df_train.CentralAir=='Y'\n",
    "cond2 = df_train.YearBuilt==2005\n",
    "cond3 = df_train.LotArea==11911\n",
    "df_train[cond1 & cond2 & cond3].RoofStyle"
   ]
  },
  {
   "cell_type": "markdown",
   "id": "6677a9e8",
   "metadata": {},
   "source": [
    "3.6. What is the median lot size in the most popular zone?"
   ]
  },
  {
   "cell_type": "code",
   "execution_count": null,
   "id": "d7f1169b",
   "metadata": {
    "ExecuteTime": {
     "end_time": "2023-02-27T13:42:54.409005Z",
     "start_time": "2023-02-27T13:42:54.401723Z"
    }
   },
   "outputs": [],
   "source": [
    "df_train[df_train.MSZoning==df_train.MSZoning.value_counts().idxmax()].LotArea.median()"
   ]
  },
  {
   "cell_type": "markdown",
   "id": "ac0a988d",
   "metadata": {},
   "source": [
    "# 4. Groupby\n",
    "from the documentation https://pandas.pydata.org/pandas-docs/stable/user_guide/groupby.html\n",
    "\n",
    "By “group by” we are referring to a process involving one or more of the following steps:\n",
    "\n",
    "    - Splitting the data into groups based on some criteria.\n",
    "    - Applying a function to each group independently.\n",
    "    - Combining the results into a data structure.\n",
    "    \n",
    "---\n",
    "`.groupby()` is one of the most powerfull tool for feature engineering. Very often it is used to group object with the same categorical characteristics and compute some statistics (e.g. mean, max, etc.) of a their numerical characteric. "
   ]
  },
  {
   "cell_type": "markdown",
   "id": "955927db",
   "metadata": {
    "ExecuteTime": {
     "end_time": "2022-02-15T19:35:46.695988Z",
     "start_time": "2022-02-15T19:35:46.692000Z"
    }
   },
   "source": [
    "## Tasks\n",
    "4.1. Compute mean remodel date (`YearRemodAdd`) for each overall condition (`OverallCond`)"
   ]
  },
  {
   "cell_type": "code",
   "execution_count": null,
   "id": "9cf0b07d",
   "metadata": {
    "ExecuteTime": {
     "end_time": "2023-02-27T13:42:54.422142Z",
     "start_time": "2023-02-27T13:42:54.413176Z"
    }
   },
   "outputs": [],
   "source": [
    "df_train.groupby('OverallCond')['YearRemodAdd'].mean()"
   ]
  },
  {
   "cell_type": "markdown",
   "id": "fa84ab4a",
   "metadata": {},
   "source": [
    "4.2. Compute min and max price for each date (MM.YYYY)"
   ]
  },
  {
   "cell_type": "code",
   "execution_count": null,
   "id": "8bd20d2c",
   "metadata": {
    "ExecuteTime": {
     "end_time": "2023-02-27T13:42:54.441105Z",
     "start_time": "2023-02-27T13:42:54.424114Z"
    }
   },
   "outputs": [],
   "source": [
    "df_train.groupby(['YrSold', 'MoSold'])['SalePrice'].agg([min, max])"
   ]
  },
  {
   "cell_type": "markdown",
   "id": "286701b6",
   "metadata": {},
   "source": [
    "4.3. Create a new feature `StyleArea` for `df_train` indicating minimum above ground living area (`GrLivArea`) within the group of houses with specific `RoofStyle`, `Foundation`, `Heating`, and `GarageType`. "
   ]
  },
  {
   "cell_type": "code",
   "execution_count": null,
   "id": "f29a6262",
   "metadata": {
    "ExecuteTime": {
     "end_time": "2023-02-27T13:42:54.451918Z",
     "start_time": "2023-02-27T13:42:54.443232Z"
    }
   },
   "outputs": [],
   "source": [
    "style = ['RoofStyle', 'Foundation', 'Heating', 'GarageType']\n",
    "gp = df_train.groupby(style)['GrLivArea'].transform(min)\n",
    "df_train['gp_feature'] = gp"
   ]
  },
  {
   "cell_type": "code",
   "execution_count": null,
   "id": "e9729989",
   "metadata": {
    "ExecuteTime": {
     "end_time": "2023-02-27T13:42:54.459084Z",
     "start_time": "2023-02-27T13:42:54.453817Z"
    }
   },
   "outputs": [],
   "source": [
    "df_train['gp_feature']"
   ]
  },
  {
   "cell_type": "code",
   "execution_count": null,
   "id": "23fa37dc",
   "metadata": {
    "ExecuteTime": {
     "end_time": "2023-02-27T13:42:54.466293Z",
     "start_time": "2023-02-27T13:42:54.461399Z"
    }
   },
   "outputs": [],
   "source": [
    "df_train['GrLivArea']"
   ]
  },
  {
   "cell_type": "code",
   "execution_count": null,
   "id": "27e34705",
   "metadata": {
    "ExecuteTime": {
     "end_time": "2023-02-27T13:42:54.472591Z",
     "start_time": "2023-02-27T13:42:54.468280Z"
    }
   },
   "outputs": [],
   "source": [
    "df_train = df_train.drop(columns=['gp_feature'])"
   ]
  },
  {
   "cell_type": "markdown",
   "id": "81058935",
   "metadata": {},
   "source": [
    "# 5. Data visualisation"
   ]
  },
  {
   "cell_type": "code",
   "execution_count": null,
   "id": "58ca2826",
   "metadata": {
    "ExecuteTime": {
     "end_time": "2023-02-27T13:42:55.168987Z",
     "start_time": "2023-02-27T13:42:54.474579Z"
    }
   },
   "outputs": [],
   "source": [
    "import seaborn as sns\n",
    "sns.set(font_scale=1.2, style=\"whitegrid\", palette='magma')\n",
    "import matplotlib.pyplot as plt"
   ]
  },
  {
   "cell_type": "markdown",
   "id": "65851492",
   "metadata": {},
   "source": [
    "## Tasks\n",
    "\n",
    "5.1. Plot number of missing values as pandas `bar` plot"
   ]
  },
  {
   "cell_type": "code",
   "execution_count": null,
   "id": "151bd873",
   "metadata": {
    "ExecuteTime": {
     "end_time": "2023-02-27T13:42:55.442392Z",
     "start_time": "2023-02-27T13:42:55.171312Z"
    }
   },
   "outputs": [],
   "source": [
    "#plot with pandas\n",
    "missing = df_train.isnull().sum()\n",
    "missing = missing[missing > 0]\n",
    "missing.sort_values(inplace=True)\n",
    "missing.plot.bar()"
   ]
  },
  {
   "cell_type": "markdown",
   "id": "8c3596dc",
   "metadata": {},
   "source": [
    "5.2. Plot target variable distribution using `sns.distplot`"
   ]
  },
  {
   "cell_type": "code",
   "execution_count": null,
   "id": "7f716968",
   "metadata": {
    "ExecuteTime": {
     "end_time": "2023-02-27T13:42:55.651706Z",
     "start_time": "2023-02-27T13:42:55.444656Z"
    }
   },
   "outputs": [],
   "source": [
    "sns.distplot(df_train['SalePrice'])"
   ]
  },
  {
   "cell_type": "markdown",
   "id": "87f279ff",
   "metadata": {},
   "source": [
    "5.3. Visualise feature correlation matrix using `sns.heatmap`"
   ]
  },
  {
   "cell_type": "code",
   "execution_count": null,
   "id": "926dd63c",
   "metadata": {
    "ExecuteTime": {
     "end_time": "2023-02-27T13:42:56.411152Z",
     "start_time": "2023-02-27T13:42:55.654051Z"
    }
   },
   "outputs": [],
   "source": [
    "corr = df_train.corr()\n",
    "fig = plt.figure(figsize=(12, 9))\n",
    "sns.heatmap(corr, vmax=.8, square=True)"
   ]
  },
  {
   "cell_type": "code",
   "execution_count": null,
   "id": "8b608bcf",
   "metadata": {
    "ExecuteTime": {
     "end_time": "2023-02-27T13:42:57.095589Z",
     "start_time": "2023-02-27T13:42:56.412703Z"
    }
   },
   "outputs": [],
   "source": [
    "#zoom in\n",
    "k = 10 #number of variables for heatmap\n",
    "cols = corr.nlargest(k, 'SalePrice')['SalePrice'].index\n",
    "cm = np.corrcoef(df_train[cols].values.T)\n",
    "hm = sns.heatmap(cm, cbar=True, annot=True, square=True, \n",
    "                 fmt='.2f', annot_kws={'size': 10}, \n",
    "                 yticklabels=cols.values, xticklabels=cols.values)\n",
    "plt.show()\n"
   ]
  },
  {
   "cell_type": "markdown",
   "id": "9cd21d0c",
   "metadata": {},
   "source": [
    "5.4. Use `sns.boxplot` to show sale price variability within each OverallQual category"
   ]
  },
  {
   "cell_type": "code",
   "execution_count": null,
   "id": "ac308b81",
   "metadata": {
    "ExecuteTime": {
     "end_time": "2023-02-27T13:42:57.332703Z",
     "start_time": "2023-02-27T13:42:57.097457Z"
    }
   },
   "outputs": [],
   "source": [
    "var = 'OverallQual'\n",
    "data = pd.concat([df_train['SalePrice'], df_train[var]], axis=1)\n",
    "fig = sns.boxplot(x=var, y=\"SalePrice\", data=data)"
   ]
  },
  {
   "cell_type": "markdown",
   "id": "5033954e",
   "metadata": {},
   "source": [
    "5.5. Study relationship between price and GrLivArea feature (above grade (ground) living area square feet) using `scatter` plot"
   ]
  },
  {
   "cell_type": "code",
   "execution_count": null,
   "id": "50c37c36",
   "metadata": {
    "ExecuteTime": {
     "end_time": "2023-02-27T13:42:57.489557Z",
     "start_time": "2023-02-27T13:42:57.334774Z"
    }
   },
   "outputs": [],
   "source": [
    "var = 'GrLivArea'\n",
    "data = pd.concat([df_train['SalePrice'], df_train[var]], axis=1)\n",
    "data.plot.scatter(x=var, y='SalePrice')"
   ]
  },
  {
   "cell_type": "markdown",
   "id": "73f04946",
   "metadata": {},
   "source": [
    "5.6. Use `sns.pairplot` to visialise pairwise relations for 'SalePrice', 'OverallQual', 'GrLivArea', 'GarageCars', 'TotalBsmtSF', 'FullBath', and 'YearBuilt'."
   ]
  },
  {
   "cell_type": "code",
   "execution_count": null,
   "id": "4219b100",
   "metadata": {
    "ExecuteTime": {
     "end_time": "2023-02-27T13:43:03.833951Z",
     "start_time": "2023-02-27T13:42:57.491419Z"
    },
    "scrolled": false
   },
   "outputs": [],
   "source": [
    "cols = ['SalePrice', 'OverallQual', 'GrLivArea', 'GarageCars', 'TotalBsmtSF', 'FullBath', 'YearBuilt']\n",
    "sns.pairplot(df_train[cols])"
   ]
  },
  {
   "cell_type": "markdown",
   "id": "ad6bd047",
   "metadata": {},
   "source": [
    "5.7. Use `sns.FacetGrid` to create the following figure <img src=\"FacetGrid.png\" width=\"600\">"
   ]
  },
  {
   "cell_type": "code",
   "execution_count": null,
   "id": "f83e0e2c",
   "metadata": {
    "ExecuteTime": {
     "end_time": "2023-02-27T13:43:09.325927Z",
     "start_time": "2023-02-27T13:43:03.836307Z"
    }
   },
   "outputs": [],
   "source": [
    "g = sns.FacetGrid(df_train, col='FullBath', row='GarageCars',\n",
    "                  margin_titles=True, hue='OverallQual')\n",
    "\n",
    "g.map_dataframe(sns.scatterplot, x=\"YearRemodAdd\", y=\"SalePrice\", s=50, alpha=0.6)\n",
    "g.set_axis_labels(\"YearRemodAdd\", \"SalePrice\")\n",
    "g.add_legend()\n",
    "g.fig.set_size_inches(8,10)\n",
    "g.tight_layout()\n"
   ]
  },
  {
   "cell_type": "code",
   "execution_count": null,
   "id": "cdf4a97d",
   "metadata": {},
   "outputs": [],
   "source": []
  }
 ],
 "metadata": {
  "kernelspec": {
   "display_name": "Python 3",
   "language": "python",
   "name": "python3"
  },
  "language_info": {
   "codemirror_mode": {
    "name": "ipython",
    "version": 3
   },
   "file_extension": ".py",
   "mimetype": "text/x-python",
   "name": "python",
   "nbconvert_exporter": "python",
   "pygments_lexer": "ipython3",
   "version": "3.8.8"
  }
 },
 "nbformat": 4,
 "nbformat_minor": 5
}
