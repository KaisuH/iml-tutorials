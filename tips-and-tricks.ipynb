{
 "cells": [
  {
   "cell_type": "markdown",
   "id": "38748b0f",
   "metadata": {},
   "source": [
    "### 1. Markdown vs code mode"
   ]
  },
  {
   "cell_type": "code",
   "execution_count": 3,
   "id": "eedbce14",
   "metadata": {
    "ExecuteTime": {
     "end_time": "2022-02-16T14:46:31.417490Z",
     "start_time": "2022-02-16T14:46:31.414779Z"
    }
   },
   "outputs": [],
   "source": [
    "### press y or m"
   ]
  },
  {
   "cell_type": "markdown",
   "id": "5c8fbd08",
   "metadata": {},
   "source": [
    "### 2. ! runs bash commands \n",
    "\n",
    "useful for eg quickly `pip` installing a package or `wget` to download data"
   ]
  },
  {
   "cell_type": "code",
   "execution_count": 52,
   "id": "55a6310d",
   "metadata": {
    "ExecuteTime": {
     "end_time": "2022-02-16T16:39:56.290869Z",
     "start_time": "2022-02-16T16:39:56.168181Z"
    }
   },
   "outputs": [
    {
     "name": "stdout",
     "output_type": "stream",
     "text": [
      "/Users/starks/work/Teaching/introml-2022/python-tutorial\r\n"
     ]
    }
   ],
   "source": [
    "! pwd"
   ]
  },
  {
   "cell_type": "markdown",
   "id": "e74ddfe5",
   "metadata": {},
   "source": [
    "#### and you can capture output:"
   ]
  },
  {
   "cell_type": "code",
   "execution_count": 58,
   "id": "16581942",
   "metadata": {
    "ExecuteTime": {
     "end_time": "2022-02-16T16:40:45.343408Z",
     "start_time": "2022-02-16T16:40:45.205155Z"
    }
   },
   "outputs": [
    {
     "data": {
      "text/plain": [
       "['a.txt', 'b.txt', 'c.txt']"
      ]
     },
     "execution_count": 58,
     "metadata": {},
     "output_type": "execute_result"
    }
   ],
   "source": [
    "! mkdir -p data && touch data/{a,b,c}.txt\n",
    "\n",
    "files = ! ls ./data\n",
    "files"
   ]
  },
  {
   "cell_type": "markdown",
   "id": "c27ca038",
   "metadata": {},
   "source": [
    "#### you can reference variables in python with { }"
   ]
  },
  {
   "cell_type": "code",
   "execution_count": 50,
   "id": "3563c87a",
   "metadata": {
    "ExecuteTime": {
     "end_time": "2022-02-16T16:29:39.972110Z",
     "start_time": "2022-02-16T16:29:39.846972Z"
    }
   },
   "outputs": [
    {
     "name": "stdout",
     "output_type": "stream",
     "text": [
      "./data/a.txt\r\n"
     ]
    }
   ],
   "source": [
    "key = 'a'\n",
    "! ls ./data/{key}.txt"
   ]
  },
  {
   "cell_type": "markdown",
   "id": "95241a84",
   "metadata": {
    "ExecuteTime": {
     "end_time": "2022-02-16T14:49:58.170301Z",
     "start_time": "2022-02-16T14:49:58.167404Z"
    }
   },
   "source": [
    "### 3. Accessing docstrings"
   ]
  },
  {
   "cell_type": "code",
   "execution_count": 19,
   "id": "54fbd515",
   "metadata": {
    "ExecuteTime": {
     "end_time": "2022-02-16T14:50:27.324005Z",
     "start_time": "2022-02-16T14:50:27.318832Z"
    }
   },
   "outputs": [],
   "source": [
    "str.replace?"
   ]
  },
  {
   "cell_type": "markdown",
   "id": "6a9a839a",
   "metadata": {
    "ExecuteTime": {
     "end_time": "2022-02-16T14:52:03.967047Z",
     "start_time": "2022-02-16T14:52:03.964331Z"
    }
   },
   "source": [
    "### 4. Built-in debugger"
   ]
  },
  {
   "cell_type": "code",
   "execution_count": 21,
   "id": "148a66b6",
   "metadata": {
    "ExecuteTime": {
     "end_time": "2022-02-16T14:52:21.726720Z",
     "start_time": "2022-02-16T14:52:21.576520Z"
    }
   },
   "outputs": [
    {
     "name": "stdout",
     "output_type": "stream",
     "text": [
      "1.25\n",
      "1.6666666666666667\n",
      "2.5\n",
      "5.0\n"
     ]
    },
    {
     "ename": "ZeroDivisionError",
     "evalue": "division by zero",
     "output_type": "error",
     "traceback": [
      "\u001b[0;31m---------------------------------------------------------------------------\u001b[0m",
      "\u001b[0;31mZeroDivisionError\u001b[0m                         Traceback (most recent call last)",
      "\u001b[0;32m/var/folders/gx/8ns8rp2533n_nz4v8fscjy3r0000gn/T/ipykernel_57087/3224634828.py\u001b[0m in \u001b[0;36m<module>\u001b[0;34m\u001b[0m\n\u001b[1;32m      2\u001b[0m \u001b[0;32mwhile\u001b[0m \u001b[0mi\u001b[0m \u001b[0;34m>=\u001b[0m \u001b[0;36m0\u001b[0m\u001b[0;34m:\u001b[0m\u001b[0;34m\u001b[0m\u001b[0;34m\u001b[0m\u001b[0m\n\u001b[1;32m      3\u001b[0m     \u001b[0mi\u001b[0m \u001b[0;34m-=\u001b[0m \u001b[0;36m1\u001b[0m\u001b[0;34m\u001b[0m\u001b[0;34m\u001b[0m\u001b[0m\n\u001b[0;32m----> 4\u001b[0;31m     \u001b[0mprint\u001b[0m\u001b[0;34m(\u001b[0m\u001b[0;36m5\u001b[0m\u001b[0;34m/\u001b[0m\u001b[0mi\u001b[0m\u001b[0;34m)\u001b[0m\u001b[0;34m\u001b[0m\u001b[0;34m\u001b[0m\u001b[0m\n\u001b[0m",
      "\u001b[0;31mZeroDivisionError\u001b[0m: division by zero"
     ]
    }
   ],
   "source": [
    "i = 5\n",
    "while i >= 0:\n",
    "    i -= 1\n",
    "    print(5/i)"
   ]
  },
  {
   "cell_type": "code",
   "execution_count": 22,
   "id": "e34b575b",
   "metadata": {
    "ExecuteTime": {
     "end_time": "2022-02-16T14:52:32.541887Z",
     "start_time": "2022-02-16T14:52:24.239343Z"
    }
   },
   "outputs": [
    {
     "name": "stdout",
     "output_type": "stream",
     "text": [
      "> \u001b[0;32m/var/folders/gx/8ns8rp2533n_nz4v8fscjy3r0000gn/T/ipykernel_57087/3224634828.py\u001b[0m(4)\u001b[0;36m<module>\u001b[0;34m()\u001b[0m\n",
      "\u001b[0;32m      1 \u001b[0;31m\u001b[0mi\u001b[0m \u001b[0;34m=\u001b[0m \u001b[0;36m5\u001b[0m\u001b[0;34m\u001b[0m\u001b[0;34m\u001b[0m\u001b[0m\n",
      "\u001b[0m\u001b[0;32m      2 \u001b[0;31m\u001b[0;32mwhile\u001b[0m \u001b[0mi\u001b[0m \u001b[0;34m>=\u001b[0m \u001b[0;36m0\u001b[0m\u001b[0;34m:\u001b[0m\u001b[0;34m\u001b[0m\u001b[0;34m\u001b[0m\u001b[0m\n",
      "\u001b[0m\u001b[0;32m      3 \u001b[0;31m    \u001b[0mi\u001b[0m \u001b[0;34m-=\u001b[0m \u001b[0;36m1\u001b[0m\u001b[0;34m\u001b[0m\u001b[0;34m\u001b[0m\u001b[0m\n",
      "\u001b[0m\u001b[0;32m----> 4 \u001b[0;31m    \u001b[0mprint\u001b[0m\u001b[0;34m(\u001b[0m\u001b[0;36m5\u001b[0m\u001b[0;34m/\u001b[0m\u001b[0mi\u001b[0m\u001b[0;34m)\u001b[0m\u001b[0;34m\u001b[0m\u001b[0;34m\u001b[0m\u001b[0m\n",
      "\u001b[0m\n",
      "ipdb> i\n",
      "0\n",
      "ipdb> q\n"
     ]
    }
   ],
   "source": [
    "debug"
   ]
  },
  {
   "cell_type": "markdown",
   "id": "a0f6bb17",
   "metadata": {
    "ExecuteTime": {
     "end_time": "2022-02-16T14:53:17.160023Z",
     "start_time": "2022-02-16T14:53:17.157324Z"
    }
   },
   "source": [
    "### 5. Multi-cursor\n",
    "\n",
    "use `alt` to quickly add commas to this list:"
   ]
  },
  {
   "cell_type": "code",
   "execution_count": null,
   "id": "900a5dc0",
   "metadata": {},
   "outputs": [],
   "source": [
    "x = [\n",
    "    'one'\n",
    "    'two'\n",
    "    'three'\n",
    "    'four'\n",
    "]"
   ]
  },
  {
   "cell_type": "markdown",
   "id": "72af7485",
   "metadata": {},
   "source": [
    "### 6. Magic functions"
   ]
  },
  {
   "cell_type": "code",
   "execution_count": 2,
   "id": "00a87ac5",
   "metadata": {
    "ExecuteTime": {
     "end_time": "2022-03-11T10:25:58.754661Z",
     "start_time": "2022-03-11T10:25:58.751213Z"
    }
   },
   "outputs": [],
   "source": [
    "import time\n",
    "import random"
   ]
  },
  {
   "cell_type": "code",
   "execution_count": 3,
   "id": "e3911aac",
   "metadata": {
    "ExecuteTime": {
     "end_time": "2022-03-11T10:26:00.411478Z",
     "start_time": "2022-03-11T10:25:59.405120Z"
    }
   },
   "outputs": [
    {
     "name": "stdout",
     "output_type": "stream",
     "text": [
      "CPU times: user 755 µs, sys: 1.03 ms, total: 1.78 ms\n",
      "Wall time: 1 s\n"
     ]
    }
   ],
   "source": [
    "%%time\n",
    "\n",
    "\n",
    "time.sleep(1)"
   ]
  },
  {
   "cell_type": "code",
   "execution_count": 4,
   "id": "c8d48b27",
   "metadata": {
    "ExecuteTime": {
     "end_time": "2022-03-11T10:26:13.194993Z",
     "start_time": "2022-03-11T10:26:00.415130Z"
    }
   },
   "outputs": [
    {
     "name": "stdout",
     "output_type": "stream",
     "text": [
      "1.62 s ± 256 ms per loop (mean ± std. dev. of 7 runs, 1 loop each)\n"
     ]
    }
   ],
   "source": [
    "%%timeit\n",
    "\n",
    "time.sleep(1 + random.random())"
   ]
  },
  {
   "cell_type": "markdown",
   "id": "7cc29cbb",
   "metadata": {},
   "source": [
    "### 7. Extentions\n",
    "https://jupyter-contrib-nbextensions.readthedocs.io/en/latest/install.html\n",
    "\n",
    "Highlights:\n",
    "* execution time\n",
    "* snippets "
   ]
  },
  {
   "cell_type": "markdown",
   "id": "174b30eb",
   "metadata": {
    "ExecuteTime": {
     "end_time": "2022-02-16T15:47:12.482139Z",
     "start_time": "2022-02-16T15:47:12.479678Z"
    }
   },
   "source": [
    "### Bonus: progress bar (tqdm python package)"
   ]
  },
  {
   "cell_type": "code",
   "execution_count": 5,
   "id": "5f2e1625",
   "metadata": {
    "ExecuteTime": {
     "end_time": "2022-03-11T10:26:19.751828Z",
     "start_time": "2022-03-11T10:26:13.197541Z"
    }
   },
   "outputs": [
    {
     "name": "stdout",
     "output_type": "stream",
     "text": [
      "Requirement already satisfied: tqdm in /Users/starks/software/anaconda/lib/python3.7/site-packages (4.62.3)\r\n"
     ]
    },
    {
     "data": {
      "application/vnd.jupyter.widget-view+json": {
       "model_id": "2a2ed0cad2324e0dad682d007fe8a377",
       "version_major": 2,
       "version_minor": 0
      },
      "text/plain": [
       "  0%|          | 0/10 [00:00<?, ?it/s]"
      ]
     },
     "metadata": {},
     "output_type": "display_data"
    }
   ],
   "source": [
    "!pip install tqdm\n",
    "\n",
    "from tqdm.auto import tqdm\n",
    "\n",
    "for _ in tqdm(range(10)):\n",
    "    time.sleep(0.5)"
   ]
  }
 ],
 "metadata": {
  "kernelspec": {
   "display_name": "Python 3 (ipykernel)",
   "language": "python",
   "name": "python3"
  },
  "language_info": {
   "codemirror_mode": {
    "name": "ipython",
    "version": 3
   },
   "file_extension": ".py",
   "mimetype": "text/x-python",
   "name": "python",
   "nbconvert_exporter": "python",
   "pygments_lexer": "ipython3",
   "version": "3.7.11"
  }
 },
 "nbformat": 4,
 "nbformat_minor": 5
}
