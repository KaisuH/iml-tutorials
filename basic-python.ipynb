{
 "cells": [
  {
   "cell_type": "markdown",
   "id": "76baba9a",
   "metadata": {
    "ExecuteTime": {
     "end_time": "2022-03-08T09:10:35.061847Z",
     "start_time": "2022-03-08T09:10:35.059237Z"
    }
   },
   "source": [
    "# If statements"
   ]
  },
  {
   "cell_type": "code",
   "execution_count": 54,
   "id": "ae2db7ed",
   "metadata": {
    "ExecuteTime": {
     "end_time": "2022-03-08T09:21:39.243928Z",
     "start_time": "2022-03-08T09:21:39.239237Z"
    }
   },
   "outputs": [
    {
     "name": "stdout",
     "output_type": "stream",
     "text": [
      "x=10 is even\n"
     ]
    }
   ],
   "source": [
    "x = 10\n",
    "if x % 2 == 0:\n",
    "    print(f'x={x} is even')\n",
    "\n",
    "elif x % 3 == 0:\n",
    "    print(f'x={x} is div by 3')\n",
    "    \n",
    "else:\n",
    "    print(f'x={x} is odd')\n",
    "    "
   ]
  },
  {
   "cell_type": "markdown",
   "id": "ecf98f49",
   "metadata": {},
   "source": [
    "# for loops"
   ]
  },
  {
   "cell_type": "code",
   "execution_count": 10,
   "id": "75884d72",
   "metadata": {
    "ExecuteTime": {
     "end_time": "2022-03-08T09:10:56.569953Z",
     "start_time": "2022-03-08T09:10:56.566464Z"
    }
   },
   "outputs": [
    {
     "name": "stdout",
     "output_type": "stream",
     "text": [
      "0\n",
      "1\n",
      "2\n"
     ]
    }
   ],
   "source": [
    "for i in range(3):\n",
    "    print(i)"
   ]
  },
  {
   "cell_type": "markdown",
   "id": "2647fb8b",
   "metadata": {},
   "source": [
    "# while loops"
   ]
  },
  {
   "cell_type": "code",
   "execution_count": 58,
   "id": "60fe848d",
   "metadata": {
    "ExecuteTime": {
     "end_time": "2022-03-08T09:22:44.412328Z",
     "start_time": "2022-03-08T09:22:44.407402Z"
    }
   },
   "outputs": [
    {
     "name": "stdout",
     "output_type": "stream",
     "text": [
      "5\n",
      "16\n",
      "8\n",
      "4\n",
      "2\n",
      "1\n"
     ]
    }
   ],
   "source": [
    "x = 10\n",
    "\n",
    "while x != 1:\n",
    "    if x % 2 == 0:\n",
    "        x = x // 2  # // divides and rounds down, returns int\n",
    "        \n",
    "    else:\n",
    "        x = 3*x + 1\n",
    "\n",
    "    print(x)"
   ]
  },
  {
   "cell_type": "markdown",
   "id": "b0f59c99",
   "metadata": {},
   "source": [
    "# Exceptions"
   ]
  },
  {
   "cell_type": "code",
   "execution_count": 88,
   "id": "bb50bae0",
   "metadata": {
    "ExecuteTime": {
     "end_time": "2022-03-08T09:47:28.331986Z",
     "start_time": "2022-03-08T09:47:28.324686Z"
    }
   },
   "outputs": [
    {
     "ename": "ZeroDivisionError",
     "evalue": "division by zero",
     "output_type": "error",
     "traceback": [
      "\u001b[0;31m---------------------------------------------------------------------------\u001b[0m",
      "\u001b[0;31mZeroDivisionError\u001b[0m                         Traceback (most recent call last)",
      "\u001b[0;32m/var/folders/gx/8ns8rp2533n_nz4v8fscjy3r0000gn/T/ipykernel_20957/1455669704.py\u001b[0m in \u001b[0;36m<module>\u001b[0;34m\u001b[0m\n\u001b[0;32m----> 1\u001b[0;31m \u001b[0;36m1\u001b[0m \u001b[0;34m/\u001b[0m \u001b[0;36m0\u001b[0m\u001b[0;34m\u001b[0m\u001b[0;34m\u001b[0m\u001b[0m\n\u001b[0m",
      "\u001b[0;31mZeroDivisionError\u001b[0m: division by zero"
     ]
    }
   ],
   "source": [
    "1 / 0"
   ]
  },
  {
   "cell_type": "code",
   "execution_count": 69,
   "id": "c65f366b",
   "metadata": {
    "ExecuteTime": {
     "end_time": "2022-03-08T09:25:45.690057Z",
     "start_time": "2022-03-08T09:25:45.685547Z"
    }
   },
   "outputs": [],
   "source": [
    "def invert_x(x, throw=True):\n",
    "    try:\n",
    "        print(f'try: 1 / {x}')\n",
    "        res = 1 / x\n",
    "\n",
    "    except ZeroDivisionError as e:\n",
    "        print('except: oops')\n",
    "        if throw:\n",
    "            raise e\n",
    "\n",
    "    else:\n",
    "        assert x != 0\n",
    "        print('else:', res)\n",
    "\n",
    "    finally:\n",
    "        print('finally: always executed')\n"
   ]
  },
  {
   "cell_type": "code",
   "execution_count": 70,
   "id": "81815609",
   "metadata": {
    "ExecuteTime": {
     "end_time": "2022-03-08T09:25:47.553665Z",
     "start_time": "2022-03-08T09:25:47.549538Z"
    }
   },
   "outputs": [
    {
     "name": "stdout",
     "output_type": "stream",
     "text": [
      "try: 1 / 1\n",
      "else: 1.0\n",
      "finally: always executed\n"
     ]
    }
   ],
   "source": [
    "invert_x(1)"
   ]
  },
  {
   "cell_type": "code",
   "execution_count": 71,
   "id": "abf807ff",
   "metadata": {
    "ExecuteTime": {
     "end_time": "2022-03-08T09:25:47.795220Z",
     "start_time": "2022-03-08T09:25:47.791210Z"
    }
   },
   "outputs": [
    {
     "name": "stdout",
     "output_type": "stream",
     "text": [
      "try: 1 / 0\n",
      "except: oops\n",
      "finally: always executed\n"
     ]
    }
   ],
   "source": [
    "invert_x(0, throw=False)"
   ]
  },
  {
   "cell_type": "code",
   "execution_count": 72,
   "id": "82e42189",
   "metadata": {
    "ExecuteTime": {
     "end_time": "2022-03-08T09:25:48.293444Z",
     "start_time": "2022-03-08T09:25:48.278803Z"
    }
   },
   "outputs": [
    {
     "name": "stdout",
     "output_type": "stream",
     "text": [
      "try: 1 / 0\n",
      "except: oops\n",
      "finally: always executed\n"
     ]
    },
    {
     "ename": "ZeroDivisionError",
     "evalue": "division by zero",
     "output_type": "error",
     "traceback": [
      "\u001b[0;31m---------------------------------------------------------------------------\u001b[0m",
      "\u001b[0;31mZeroDivisionError\u001b[0m                         Traceback (most recent call last)",
      "\u001b[0;32m/var/folders/gx/8ns8rp2533n_nz4v8fscjy3r0000gn/T/ipykernel_20957/2390266234.py\u001b[0m in \u001b[0;36m<module>\u001b[0;34m\u001b[0m\n\u001b[0;32m----> 1\u001b[0;31m \u001b[0minvert_x\u001b[0m\u001b[0;34m(\u001b[0m\u001b[0;36m0\u001b[0m\u001b[0;34m,\u001b[0m \u001b[0mthrow\u001b[0m\u001b[0;34m=\u001b[0m\u001b[0;32mTrue\u001b[0m\u001b[0;34m)\u001b[0m\u001b[0;34m\u001b[0m\u001b[0;34m\u001b[0m\u001b[0m\n\u001b[0m",
      "\u001b[0;32m/var/folders/gx/8ns8rp2533n_nz4v8fscjy3r0000gn/T/ipykernel_20957/2802187989.py\u001b[0m in \u001b[0;36minvert_x\u001b[0;34m(x, throw)\u001b[0m\n\u001b[1;32m      7\u001b[0m         \u001b[0mprint\u001b[0m\u001b[0;34m(\u001b[0m\u001b[0;34m'except: oops'\u001b[0m\u001b[0;34m)\u001b[0m\u001b[0;34m\u001b[0m\u001b[0;34m\u001b[0m\u001b[0m\n\u001b[1;32m      8\u001b[0m         \u001b[0;32mif\u001b[0m \u001b[0mthrow\u001b[0m\u001b[0;34m:\u001b[0m\u001b[0;34m\u001b[0m\u001b[0;34m\u001b[0m\u001b[0m\n\u001b[0;32m----> 9\u001b[0;31m             \u001b[0;32mraise\u001b[0m \u001b[0me\u001b[0m\u001b[0;34m\u001b[0m\u001b[0;34m\u001b[0m\u001b[0m\n\u001b[0m\u001b[1;32m     10\u001b[0m \u001b[0;34m\u001b[0m\u001b[0m\n\u001b[1;32m     11\u001b[0m     \u001b[0;32melse\u001b[0m\u001b[0;34m:\u001b[0m\u001b[0;34m\u001b[0m\u001b[0;34m\u001b[0m\u001b[0m\n",
      "\u001b[0;32m/var/folders/gx/8ns8rp2533n_nz4v8fscjy3r0000gn/T/ipykernel_20957/2802187989.py\u001b[0m in \u001b[0;36minvert_x\u001b[0;34m(x, throw)\u001b[0m\n\u001b[1;32m      2\u001b[0m     \u001b[0;32mtry\u001b[0m\u001b[0;34m:\u001b[0m\u001b[0;34m\u001b[0m\u001b[0;34m\u001b[0m\u001b[0m\n\u001b[1;32m      3\u001b[0m         \u001b[0mprint\u001b[0m\u001b[0;34m(\u001b[0m\u001b[0;34mf'try: 1 / {x}'\u001b[0m\u001b[0;34m)\u001b[0m\u001b[0;34m\u001b[0m\u001b[0;34m\u001b[0m\u001b[0m\n\u001b[0;32m----> 4\u001b[0;31m         \u001b[0mres\u001b[0m \u001b[0;34m=\u001b[0m \u001b[0;36m1\u001b[0m \u001b[0;34m/\u001b[0m \u001b[0mx\u001b[0m\u001b[0;34m\u001b[0m\u001b[0;34m\u001b[0m\u001b[0m\n\u001b[0m\u001b[1;32m      5\u001b[0m \u001b[0;34m\u001b[0m\u001b[0m\n\u001b[1;32m      6\u001b[0m     \u001b[0;32mexcept\u001b[0m \u001b[0mZeroDivisionError\u001b[0m \u001b[0;32mas\u001b[0m \u001b[0me\u001b[0m\u001b[0;34m:\u001b[0m\u001b[0;34m\u001b[0m\u001b[0;34m\u001b[0m\u001b[0m\n",
      "\u001b[0;31mZeroDivisionError\u001b[0m: division by zero"
     ]
    }
   ],
   "source": [
    "invert_x(0, throw=True)"
   ]
  },
  {
   "cell_type": "markdown",
   "id": "2d714198",
   "metadata": {},
   "source": [
    "# Assertions\n",
    "\n",
    "* check boolean conditions\n",
    "* throw AssertionError if False\n",
    "* can include helpful messages\n",
    "* useful for debugging, checking pre-conditions"
   ]
  },
  {
   "cell_type": "code",
   "execution_count": 80,
   "id": "6c178bb1",
   "metadata": {
    "ExecuteTime": {
     "end_time": "2022-03-08T09:28:41.189697Z",
     "start_time": "2022-03-08T09:28:41.186856Z"
    }
   },
   "outputs": [],
   "source": [
    "x = 10\n",
    "assert x % 2 == 0, f'x={x} is not even'"
   ]
  },
  {
   "cell_type": "code",
   "execution_count": 81,
   "id": "e7443191",
   "metadata": {
    "ExecuteTime": {
     "end_time": "2022-03-08T09:28:44.167080Z",
     "start_time": "2022-03-08T09:28:44.158188Z"
    }
   },
   "outputs": [
    {
     "ename": "AssertionError",
     "evalue": "x=9 is not even",
     "output_type": "error",
     "traceback": [
      "\u001b[0;31m---------------------------------------------------------------------------\u001b[0m",
      "\u001b[0;31mAssertionError\u001b[0m                            Traceback (most recent call last)",
      "\u001b[0;32m/var/folders/gx/8ns8rp2533n_nz4v8fscjy3r0000gn/T/ipykernel_20957/1946863545.py\u001b[0m in \u001b[0;36m<module>\u001b[0;34m\u001b[0m\n\u001b[1;32m      1\u001b[0m \u001b[0mx\u001b[0m \u001b[0;34m=\u001b[0m \u001b[0;36m9\u001b[0m\u001b[0;34m\u001b[0m\u001b[0;34m\u001b[0m\u001b[0m\n\u001b[0;32m----> 2\u001b[0;31m \u001b[0;32massert\u001b[0m \u001b[0mx\u001b[0m \u001b[0;34m%\u001b[0m \u001b[0;36m2\u001b[0m \u001b[0;34m==\u001b[0m \u001b[0;36m0\u001b[0m\u001b[0;34m,\u001b[0m \u001b[0;34mf'x={x} is not even'\u001b[0m\u001b[0;34m\u001b[0m\u001b[0;34m\u001b[0m\u001b[0m\n\u001b[0m",
      "\u001b[0;31mAssertionError\u001b[0m: x=9 is not even"
     ]
    }
   ],
   "source": [
    "x = 9\n",
    "assert x % 2 == 0, f'x={x} is not even'"
   ]
  },
  {
   "cell_type": "code",
   "execution_count": 82,
   "id": "1f4c9dd7",
   "metadata": {
    "ExecuteTime": {
     "end_time": "2022-03-08T09:34:45.079124Z",
     "start_time": "2022-03-08T09:34:45.076124Z"
    }
   },
   "outputs": [],
   "source": [
    "def invert_x_with_assertion(x):\n",
    "    assert x != 0, 'Divide by zero'\n",
    "    return 1 / x"
   ]
  },
  {
   "cell_type": "code",
   "execution_count": 85,
   "id": "a5dc5a03",
   "metadata": {
    "ExecuteTime": {
     "end_time": "2022-03-08T09:34:55.995746Z",
     "start_time": "2022-03-08T09:34:55.991109Z"
    }
   },
   "outputs": [
    {
     "data": {
      "text/plain": [
       "1.0"
      ]
     },
     "execution_count": 85,
     "metadata": {},
     "output_type": "execute_result"
    }
   ],
   "source": [
    "invert_x_with_assertion(1)"
   ]
  },
  {
   "cell_type": "code",
   "execution_count": 86,
   "id": "4a0e63ba",
   "metadata": {
    "ExecuteTime": {
     "end_time": "2022-03-08T09:34:59.602852Z",
     "start_time": "2022-03-08T09:34:59.592745Z"
    }
   },
   "outputs": [
    {
     "ename": "AssertionError",
     "evalue": "Divide by zero",
     "output_type": "error",
     "traceback": [
      "\u001b[0;31m---------------------------------------------------------------------------\u001b[0m",
      "\u001b[0;31mAssertionError\u001b[0m                            Traceback (most recent call last)",
      "\u001b[0;32m/var/folders/gx/8ns8rp2533n_nz4v8fscjy3r0000gn/T/ipykernel_20957/2579078531.py\u001b[0m in \u001b[0;36m<module>\u001b[0;34m\u001b[0m\n\u001b[0;32m----> 1\u001b[0;31m \u001b[0minvert_x_with_assertion\u001b[0m\u001b[0;34m(\u001b[0m\u001b[0;36m0\u001b[0m\u001b[0;34m)\u001b[0m\u001b[0;34m\u001b[0m\u001b[0;34m\u001b[0m\u001b[0m\n\u001b[0m",
      "\u001b[0;32m/var/folders/gx/8ns8rp2533n_nz4v8fscjy3r0000gn/T/ipykernel_20957/1308542683.py\u001b[0m in \u001b[0;36minvert_x_with_assertion\u001b[0;34m(x)\u001b[0m\n\u001b[1;32m      1\u001b[0m \u001b[0;32mdef\u001b[0m \u001b[0minvert_x_with_assertion\u001b[0m\u001b[0;34m(\u001b[0m\u001b[0mx\u001b[0m\u001b[0;34m)\u001b[0m\u001b[0;34m:\u001b[0m\u001b[0;34m\u001b[0m\u001b[0;34m\u001b[0m\u001b[0m\n\u001b[0;32m----> 2\u001b[0;31m     \u001b[0;32massert\u001b[0m \u001b[0mx\u001b[0m \u001b[0;34m!=\u001b[0m \u001b[0;36m0\u001b[0m\u001b[0;34m,\u001b[0m \u001b[0;34m'Divide by zero'\u001b[0m\u001b[0;34m\u001b[0m\u001b[0;34m\u001b[0m\u001b[0m\n\u001b[0m\u001b[1;32m      3\u001b[0m     \u001b[0;32mreturn\u001b[0m \u001b[0;36m1\u001b[0m \u001b[0;34m/\u001b[0m \u001b[0mx\u001b[0m\u001b[0;34m\u001b[0m\u001b[0;34m\u001b[0m\u001b[0m\n",
      "\u001b[0;31mAssertionError\u001b[0m: Divide by zero"
     ]
    }
   ],
   "source": [
    "invert_x_with_assertion(0)"
   ]
  },
  {
   "cell_type": "markdown",
   "id": "d3abf0c8",
   "metadata": {},
   "source": [
    "# Function basics"
   ]
  },
  {
   "cell_type": "code",
   "execution_count": 53,
   "id": "c421075f",
   "metadata": {
    "ExecuteTime": {
     "end_time": "2022-03-08T09:21:00.216563Z",
     "start_time": "2022-03-08T09:21:00.211350Z"
    }
   },
   "outputs": [
    {
     "name": "stdout",
     "output_type": "stream",
     "text": [
      "x=10\n",
      "\n",
      "type(args): <class 'tuple'>\n",
      "args: (3, 4)\n",
      "\n",
      "type(kwargs): <class 'dict'>\n",
      "kwargs: {'a': 10, 'b': 12}\n"
     ]
    }
   ],
   "source": [
    "def handle_unknown_arguments(x, *args, **kwargs):\n",
    "    print(f'x={x}')\n",
    "    print()\n",
    "    \n",
    "    print('type(args):', type(args))\n",
    "    print('args:', args)\n",
    "    print()\n",
    "    \n",
    "    print('type(kwargs):', type(kwargs))\n",
    "    print('kwargs:', kwargs)\n",
    "    \n",
    "handle_unknown_arguments(10, 3, 4, a=10, b=12)"
   ]
  }
 ],
 "metadata": {
  "kernelspec": {
   "display_name": "Python 3 (ipykernel)",
   "language": "python",
   "name": "python3"
  },
  "language_info": {
   "codemirror_mode": {
    "name": "ipython",
    "version": 3
   },
   "file_extension": ".py",
   "mimetype": "text/x-python",
   "name": "python",
   "nbconvert_exporter": "python",
   "pygments_lexer": "ipython3",
   "version": "3.7.11"
  }
 },
 "nbformat": 4,
 "nbformat_minor": 5
}
