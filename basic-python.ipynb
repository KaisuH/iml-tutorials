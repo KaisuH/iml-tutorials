{
 "cells": [
  {
   "cell_type": "markdown",
   "id": "76baba9a",
   "metadata": {
    "ExecuteTime": {
     "end_time": "2022-03-08T09:10:35.061847Z",
     "start_time": "2022-03-08T09:10:35.059237Z"
    }
   },
   "source": [
    "# If statements"
   ]
  },
  {
   "cell_type": "code",
   "execution_count": 1,
   "id": "ae2db7ed",
   "metadata": {
    "ExecuteTime": {
     "end_time": "2023-02-22T15:07:45.097146Z",
     "start_time": "2023-02-22T15:07:45.088686Z"
    }
   },
   "outputs": [
    {
     "name": "stdout",
     "output_type": "stream",
     "text": [
      "x is a <class 'NoneType'>\n"
     ]
    }
   ],
   "source": [
    "x = None\n",
    "if isinstance(x, int):\n",
    "    print('x is an integer')\n",
    "\n",
    "elif isinstance(x, str):\n",
    "    print('x is a string')\n",
    "    \n",
    "else:\n",
    "    print(f'x is a {type(x)}')\n",
    "    "
   ]
  },
  {
   "cell_type": "markdown",
   "id": "24091f5a",
   "metadata": {},
   "source": [
    "# lists"
   ]
  },
  {
   "cell_type": "code",
   "execution_count": 5,
   "id": "4af057f4",
   "metadata": {
    "ExecuteTime": {
     "end_time": "2023-02-22T15:13:23.573369Z",
     "start_time": "2023-02-22T15:13:23.570214Z"
    }
   },
   "outputs": [],
   "source": [
    "l = [1, 2, 3, 4, 5, 6]"
   ]
  },
  {
   "cell_type": "code",
   "execution_count": 19,
   "id": "1cb3b9e0",
   "metadata": {
    "ExecuteTime": {
     "end_time": "2023-02-22T15:14:55.923648Z",
     "start_time": "2023-02-22T15:14:55.921099Z"
    }
   },
   "outputs": [
    {
     "name": "stdout",
     "output_type": "stream",
     "text": [
      "1\n"
     ]
    }
   ],
   "source": [
    "print(l[0])"
   ]
  },
  {
   "cell_type": "code",
   "execution_count": 20,
   "id": "bd64e1bf",
   "metadata": {
    "ExecuteTime": {
     "end_time": "2023-02-22T15:14:57.621647Z",
     "start_time": "2023-02-22T15:14:57.617527Z"
    }
   },
   "outputs": [
    {
     "data": {
      "text/plain": [
       "6"
      ]
     },
     "execution_count": 20,
     "metadata": {},
     "output_type": "execute_result"
    }
   ],
   "source": [
    "l[-1]"
   ]
  },
  {
   "cell_type": "code",
   "execution_count": 12,
   "id": "bce9a6d6",
   "metadata": {
    "ExecuteTime": {
     "end_time": "2023-02-22T15:14:14.462689Z",
     "start_time": "2023-02-22T15:14:14.459163Z"
    }
   },
   "outputs": [
    {
     "name": "stdout",
     "output_type": "stream",
     "text": [
      "[2, 3, 4, 5, 6]\n"
     ]
    }
   ],
   "source": [
    "l[1:]"
   ]
  },
  {
   "cell_type": "code",
   "execution_count": 21,
   "id": "373ce017",
   "metadata": {
    "ExecuteTime": {
     "end_time": "2023-02-22T15:15:02.398883Z",
     "start_time": "2023-02-22T15:15:02.394536Z"
    }
   },
   "outputs": [
    {
     "data": {
      "text/plain": [
       "[1, 2, 3, 4]"
      ]
     },
     "execution_count": 21,
     "metadata": {},
     "output_type": "execute_result"
    }
   ],
   "source": [
    "l[:4]"
   ]
  },
  {
   "cell_type": "code",
   "execution_count": 22,
   "id": "ee34753b",
   "metadata": {
    "ExecuteTime": {
     "end_time": "2023-02-22T15:15:04.468979Z",
     "start_time": "2023-02-22T15:15:04.461336Z"
    }
   },
   "outputs": [
    {
     "data": {
      "text/plain": [
       "[2, 3, 4]"
      ]
     },
     "execution_count": 22,
     "metadata": {},
     "output_type": "execute_result"
    }
   ],
   "source": [
    "l[1:4]"
   ]
  },
  {
   "cell_type": "code",
   "execution_count": 23,
   "id": "8a786b6a",
   "metadata": {
    "ExecuteTime": {
     "end_time": "2023-02-22T15:15:06.431252Z",
     "start_time": "2023-02-22T15:15:06.427313Z"
    }
   },
   "outputs": [
    {
     "data": {
      "text/plain": [
       "[1, 2, 3, 4, 5]"
      ]
     },
     "execution_count": 23,
     "metadata": {},
     "output_type": "execute_result"
    }
   ],
   "source": [
    "l[:-1]"
   ]
  },
  {
   "cell_type": "code",
   "execution_count": 24,
   "id": "a8a6d877",
   "metadata": {
    "ExecuteTime": {
     "end_time": "2023-02-22T15:15:09.158122Z",
     "start_time": "2023-02-22T15:15:09.153805Z"
    }
   },
   "outputs": [
    {
     "data": {
      "text/plain": [
       "[1, 3, 5]"
      ]
     },
     "execution_count": 24,
     "metadata": {},
     "output_type": "execute_result"
    }
   ],
   "source": [
    "l[::2]"
   ]
  },
  {
   "cell_type": "code",
   "execution_count": 25,
   "id": "813e21e9",
   "metadata": {
    "ExecuteTime": {
     "end_time": "2023-02-22T15:15:11.540610Z",
     "start_time": "2023-02-22T15:15:11.535727Z"
    }
   },
   "outputs": [
    {
     "data": {
      "text/plain": [
       "[2, 4, 6]"
      ]
     },
     "execution_count": 25,
     "metadata": {},
     "output_type": "execute_result"
    }
   ],
   "source": [
    "l[1::2]"
   ]
  },
  {
   "cell_type": "code",
   "execution_count": 26,
   "id": "027d4831",
   "metadata": {
    "ExecuteTime": {
     "end_time": "2023-02-22T15:15:13.690203Z",
     "start_time": "2023-02-22T15:15:13.686112Z"
    }
   },
   "outputs": [
    {
     "data": {
      "text/plain": [
       "[6, 5, 4, 3, 2, 1]"
      ]
     },
     "execution_count": 26,
     "metadata": {},
     "output_type": "execute_result"
    }
   ],
   "source": [
    "l[::-1]"
   ]
  },
  {
   "cell_type": "markdown",
   "id": "ecf98f49",
   "metadata": {},
   "source": [
    "# for loops"
   ]
  },
  {
   "cell_type": "code",
   "execution_count": 2,
   "id": "75884d72",
   "metadata": {
    "ExecuteTime": {
     "end_time": "2023-02-22T15:07:45.102049Z",
     "start_time": "2023-02-22T15:07:45.099249Z"
    }
   },
   "outputs": [
    {
     "name": "stdout",
     "output_type": "stream",
     "text": [
      "0\n",
      "1\n",
      "2\n"
     ]
    }
   ],
   "source": [
    "for i in range(3):\n",
    "    print(i)"
   ]
  },
  {
   "cell_type": "markdown",
   "id": "2647fb8b",
   "metadata": {},
   "source": [
    "# while loops"
   ]
  },
  {
   "cell_type": "code",
   "execution_count": 28,
   "id": "60fe848d",
   "metadata": {
    "ExecuteTime": {
     "end_time": "2023-02-22T15:16:03.039021Z",
     "start_time": "2023-02-22T15:16:03.034626Z"
    },
    "scrolled": false
   },
   "outputs": [
    {
     "name": "stdout",
     "output_type": "stream",
     "text": [
      "5\n",
      "16\n",
      "8\n",
      "4\n",
      "2\n",
      "1\n"
     ]
    }
   ],
   "source": [
    "x = 10\n",
    "\n",
    "while x != 1:\n",
    "    if x % 2 == 0:\n",
    "        x = x // 2  # // divides and rounds down, returns int\n",
    "        \n",
    "    else:\n",
    "        x = 3*x + 1\n",
    "\n",
    "    print(x)"
   ]
  },
  {
   "cell_type": "markdown",
   "id": "b0f59c99",
   "metadata": {},
   "source": [
    "# Exceptions"
   ]
  },
  {
   "cell_type": "code",
   "execution_count": 4,
   "id": "bb50bae0",
   "metadata": {
    "ExecuteTime": {
     "end_time": "2023-02-22T15:07:45.188117Z",
     "start_time": "2023-02-22T15:07:45.111828Z"
    }
   },
   "outputs": [
    {
     "ename": "ZeroDivisionError",
     "evalue": "division by zero",
     "output_type": "error",
     "traceback": [
      "\u001b[0;31m---------------------------------------------------------------------------\u001b[0m",
      "\u001b[0;31mZeroDivisionError\u001b[0m                         Traceback (most recent call last)",
      "\u001b[0;32m/var/folders/gx/8ns8rp2533n_nz4v8fscjy3r0000gn/T/ipykernel_36712/1455669704.py\u001b[0m in \u001b[0;36m<module>\u001b[0;34m\u001b[0m\n\u001b[0;32m----> 1\u001b[0;31m \u001b[0;36m1\u001b[0m \u001b[0;34m/\u001b[0m \u001b[0;36m0\u001b[0m\u001b[0;34m\u001b[0m\u001b[0;34m\u001b[0m\u001b[0m\n\u001b[0m",
      "\u001b[0;31mZeroDivisionError\u001b[0m: division by zero"
     ]
    }
   ],
   "source": [
    "1 / 0"
   ]
  },
  {
   "cell_type": "code",
   "execution_count": null,
   "id": "c65f366b",
   "metadata": {
    "ExecuteTime": {
     "end_time": "2023-02-22T15:07:45.189698Z",
     "start_time": "2023-02-22T15:07:45.189687Z"
    }
   },
   "outputs": [],
   "source": [
    "def invert_x(x):\n",
    "    try:\n",
    "        res = 1 / x\n",
    "\n",
    "    except ZeroDivisionError as e:\n",
    "        print('You can\\'t divide by 0')\n",
    "        raise e\n",
    "\n",
    "    else:\n",
    "        return res\n",
    "\n",
    "    finally:\n",
    "        print('bye')"
   ]
  },
  {
   "cell_type": "code",
   "execution_count": null,
   "id": "81815609",
   "metadata": {
    "ExecuteTime": {
     "end_time": "2023-02-22T15:07:45.190857Z",
     "start_time": "2023-02-22T15:07:45.190845Z"
    }
   },
   "outputs": [],
   "source": [
    "invert_x(1)"
   ]
  },
  {
   "cell_type": "code",
   "execution_count": null,
   "id": "82e42189",
   "metadata": {
    "ExecuteTime": {
     "end_time": "2023-02-22T15:07:45.192318Z",
     "start_time": "2023-02-22T15:07:45.192302Z"
    }
   },
   "outputs": [],
   "source": [
    "invert_x(0)"
   ]
  },
  {
   "cell_type": "markdown",
   "id": "2d714198",
   "metadata": {},
   "source": [
    "# Assertions\n",
    "\n",
    "* check boolean conditions\n",
    "* throw AssertionError if False\n",
    "* can include helpful messages\n",
    "* useful for debugging, checking pre-conditions"
   ]
  },
  {
   "cell_type": "code",
   "execution_count": null,
   "id": "6c178bb1",
   "metadata": {
    "ExecuteTime": {
     "end_time": "2023-02-22T15:07:45.193827Z",
     "start_time": "2023-02-22T15:07:45.193794Z"
    }
   },
   "outputs": [],
   "source": [
    "x = 10\n",
    "assert x % 2 == 0, f'x={x} is not even'"
   ]
  },
  {
   "cell_type": "code",
   "execution_count": null,
   "id": "e7443191",
   "metadata": {
    "ExecuteTime": {
     "end_time": "2023-02-22T15:07:45.195145Z",
     "start_time": "2023-02-22T15:07:45.195128Z"
    }
   },
   "outputs": [],
   "source": [
    "x = 9\n",
    "assert x % 2 == 0, f'x={x} is not even'"
   ]
  },
  {
   "cell_type": "code",
   "execution_count": null,
   "id": "1f4c9dd7",
   "metadata": {
    "ExecuteTime": {
     "end_time": "2023-02-22T15:07:45.196584Z",
     "start_time": "2023-02-22T15:07:45.196534Z"
    }
   },
   "outputs": [],
   "source": [
    "def invert_x_with_assertion(x):\n",
    "    assert x != 0, 'Don\\'t divide by zero'\n",
    "    return 1 / x"
   ]
  },
  {
   "cell_type": "code",
   "execution_count": null,
   "id": "a5dc5a03",
   "metadata": {
    "ExecuteTime": {
     "end_time": "2023-02-22T15:07:45.197938Z",
     "start_time": "2023-02-22T15:07:45.197921Z"
    }
   },
   "outputs": [],
   "source": [
    "invert_x_with_assertion(1)"
   ]
  },
  {
   "cell_type": "code",
   "execution_count": null,
   "id": "4a0e63ba",
   "metadata": {
    "ExecuteTime": {
     "end_time": "2023-02-22T15:07:45.199366Z",
     "start_time": "2023-02-22T15:07:45.199354Z"
    }
   },
   "outputs": [],
   "source": [
    "invert_x_with_assertion(0)"
   ]
  },
  {
   "cell_type": "markdown",
   "id": "d3abf0c8",
   "metadata": {},
   "source": [
    "# Function basics"
   ]
  },
  {
   "cell_type": "code",
   "execution_count": 38,
   "id": "e70e04a3",
   "metadata": {
    "ExecuteTime": {
     "end_time": "2023-02-22T15:16:59.115058Z",
     "start_time": "2023-02-22T15:16:59.111854Z"
    }
   },
   "outputs": [],
   "source": [
    "def foo(a, b=1):\n",
    "    print(f'a={a} and b={b}')\n",
    "    "
   ]
  },
  {
   "cell_type": "code",
   "execution_count": 39,
   "id": "4994e7bf",
   "metadata": {
    "ExecuteTime": {
     "end_time": "2023-02-22T15:16:59.950214Z",
     "start_time": "2023-02-22T15:16:59.946486Z"
    }
   },
   "outputs": [
    {
     "name": "stdout",
     "output_type": "stream",
     "text": [
      "a=1 and b=1\n"
     ]
    }
   ],
   "source": [
    "foo(1)"
   ]
  },
  {
   "cell_type": "code",
   "execution_count": 40,
   "id": "27df6a31",
   "metadata": {
    "ExecuteTime": {
     "end_time": "2023-02-22T15:17:00.076023Z",
     "start_time": "2023-02-22T15:17:00.073013Z"
    }
   },
   "outputs": [
    {
     "name": "stdout",
     "output_type": "stream",
     "text": [
      "a=2 and b=4\n"
     ]
    }
   ],
   "source": [
    "foo(2, 4)"
   ]
  },
  {
   "cell_type": "code",
   "execution_count": 41,
   "id": "f804b9db",
   "metadata": {
    "ExecuteTime": {
     "end_time": "2023-02-22T15:17:00.201214Z",
     "start_time": "2023-02-22T15:17:00.198271Z"
    }
   },
   "outputs": [
    {
     "name": "stdout",
     "output_type": "stream",
     "text": [
      "a=1 and b=3\n"
     ]
    }
   ],
   "source": [
    "foo(1, b=3)"
   ]
  }
 ],
 "metadata": {
  "kernelspec": {
   "display_name": "Python 3 (ipykernel)",
   "language": "python",
   "name": "python3"
  },
  "language_info": {
   "codemirror_mode": {
    "name": "ipython",
    "version": 3
   },
   "file_extension": ".py",
   "mimetype": "text/x-python",
   "name": "python",
   "nbconvert_exporter": "python",
   "pygments_lexer": "ipython3",
   "version": "3.7.11"
  }
 },
 "nbformat": 4,
 "nbformat_minor": 5
}
